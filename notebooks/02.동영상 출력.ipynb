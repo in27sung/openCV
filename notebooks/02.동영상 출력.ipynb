{
 "cells": [
  {
   "cell_type": "markdown",
   "id": "be237ed4-bfd3-4b69-b235-896024f8982c",
   "metadata": {},
   "source": [
    "# 2. 동영상 출력"
   ]
  },
  {
   "cell_type": "markdown",
   "id": "72d055aa-8924-4378-9bd1-ee6da85046cb",
   "metadata": {},
   "source": [
    "## 동영상 파일 출력"
   ]
  },
  {
   "cell_type": "code",
   "execution_count": 10,
   "id": "af0c4b6f-c9d7-4628-a475-ba12114243e0",
   "metadata": {},
   "outputs": [
    {
     "name": "stdout",
     "output_type": "stream",
     "text": [
      "사용자 입력에 의해 종료됩니다\n"
     ]
    },
    {
     "data": {
      "text/plain": [
       "-1"
      ]
     },
     "execution_count": 10,
     "metadata": {},
     "output_type": "execute_result"
    }
   ],
   "source": [
    "import cv2\n",
    "cap = cv2.VideoCapture('video.mp4')\n",
    "\n",
    "while cap.isOpened(): # 동영상 파일이 올바로 열렸는지 확인 \n",
    "    ret, frame = cap.read() # ret: 성공 여부, frame: 받아온 이미지(프레임)\n",
    "    if not ret:\n",
    "        print('더 이상 가져올 프레임이 없습니다')\n",
    "        break\n",
    "    cv2.imshow('video', frame)\n",
    "\n",
    "    # waitKey('영상 속도 조절')\n",
    "    if cv2.waitKey(25) == ord('q'): # q 입력시 종료 \n",
    "        print('사용자 입력에 의해 종료됩니다')\n",
    "        break\n",
    "\n",
    "cap.release() # 자원 해제 \n",
    "cv2.destroyAllWindows()\n",
    "cv2.waitKey(1)"
   ]
  },
  {
   "cell_type": "markdown",
   "id": "75b4b857-b5d7-41e2-83ea-6bba2d4507f9",
   "metadata": {},
   "source": [
    "## 카메라 출력 "
   ]
  },
  {
   "cell_type": "code",
   "execution_count": 2,
   "id": "c1154377-cdf7-4666-9030-ed23f7cf8694",
   "metadata": {},
   "outputs": [
    {
     "name": "stderr",
     "output_type": "stream",
     "text": [
      "2025-01-09 16:52:21.246 python[22469:1552153] WARNING: AVCaptureDeviceTypeExternal is deprecated for Continuity Cameras. Please use AVCaptureDeviceTypeContinuityCamera and add NSCameraUseContinuityCameraDeviceType to your Info.plist.\n"
     ]
    },
    {
     "data": {
      "text/plain": [
       "-1"
      ]
     },
     "execution_count": 2,
     "metadata": {},
     "output_type": "execute_result"
    }
   ],
   "source": [
    "import cv2\n",
    "cap = cv2.VideoCapture(0) # 0번째 카메라 장치 (Decive ID)\n",
    "\n",
    "if not cap.isOpened(): # 카메라가 잘 열리지 않은 경우 \n",
    "    exit() # 프로그램 종료 \n",
    "\n",
    "while True:\n",
    "    ret, frame = cap.read()\n",
    "    if not ret:\n",
    "        break\n",
    "\n",
    "    cv2.imshow('camera', frame)\n",
    "\n",
    "    if cv2.waitKey(1) == ord('q'): # 'q' 입력 시 종료 \n",
    "        break\n",
    "\n",
    "cap.release()\n",
    "cv2.destroyAllWindows()\n",
    "cv2.waitKey(1)"
   ]
  },
  {
   "cell_type": "code",
   "execution_count": null,
   "id": "2bbe9c71-626a-4ccd-aa92-a8f55b8555c7",
   "metadata": {},
   "outputs": [],
   "source": []
  }
 ],
 "metadata": {
  "kernelspec": {
   "display_name": "Python [conda env:base] *",
   "language": "python",
   "name": "conda-base-py"
  },
  "language_info": {
   "codemirror_mode": {
    "name": "ipython",
    "version": 3
   },
   "file_extension": ".py",
   "mimetype": "text/x-python",
   "name": "python",
   "nbconvert_exporter": "python",
   "pygments_lexer": "ipython3",
   "version": "3.12.7"
  }
 },
 "nbformat": 4,
 "nbformat_minor": 5
}
