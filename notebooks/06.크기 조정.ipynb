{
 "cells": [
  {
   "cell_type": "markdown",
   "id": "a2eed0f1-26c8-4af5-8bd2-28b630a2c84c",
   "metadata": {},
   "source": [
    "# 6. 크기 조정"
   ]
  },
  {
   "cell_type": "markdown",
   "id": "461eaa4b-7a55-40e7-be8e-1887ee6bf11b",
   "metadata": {},
   "source": [
    "## 이미지 \n",
    "### 고정 크기로 설정 "
   ]
  },
  {
   "cell_type": "code",
   "execution_count": 9,
   "id": "6a636e3b-fe33-4889-bce2-8183441d2ed0",
   "metadata": {},
   "outputs": [
    {
     "data": {
      "text/plain": [
       "-1"
      ]
     },
     "execution_count": 9,
     "metadata": {},
     "output_type": "execute_result"
    }
   ],
   "source": [
    "import cv2\n",
    "img = cv2.imread('img.jpg')\n",
    "dst = cv2.resize(img, (400, 500)) #width, height 고정 크기 \n",
    "\n",
    "while True:\n",
    "    cv2.imshow('img', img)\n",
    "    cv2.imshow('resize', dst)\n",
    "    if cv2.waitKey(1) & 0xFF == ord('q'):\n",
    "        break \n",
    "cv2.destroyAllWindows()\n",
    "cv2.waitKey(1)"
   ]
  },
  {
   "cell_type": "markdown",
   "id": "4ff38970-ff1f-466d-a7ec-71ad26ddf0b4",
   "metadata": {},
   "source": [
    "### 비율로 설정"
   ]
  },
  {
   "cell_type": "code",
   "execution_count": 14,
   "id": "ed028575-4fbf-458b-81c7-02e457bb862f",
   "metadata": {},
   "outputs": [
    {
     "data": {
      "text/plain": [
       "-1"
      ]
     },
     "execution_count": 14,
     "metadata": {},
     "output_type": "execute_result"
    }
   ],
   "source": [
    "import cv2\n",
    "img = cv2.imread('img.jpg')\n",
    "# dst = cv2.resize(img, None, fx=0.5, fy=0.5) # x, y 비율 정의(0.5배로 축소)\n",
    "dst = cv2.resize(img, None, fx=3, fy=3) # x, y 비율 정의(3배 확대)\n",
    "\n",
    "while True:\n",
    "    cv2.imshow('img', img)\n",
    "    cv2.imshow('resize', dst)\n",
    "    if cv2.waitKey(1) & 0xFF == ord('q'):\n",
    "        break \n",
    "        \n",
    "cv2.destroyAllWindows()\n",
    "cv2.waitKey(1)"
   ]
  },
  {
   "cell_type": "markdown",
   "id": "d7b7bc17-48c0-4dcb-83a0-9871ada7fccd",
   "metadata": {},
   "source": [
    "### 보간법\n",
    "1. cv2.INTER_AREA: 크기 줄일 때 사용\n",
    "2. cv2.INTER_CUBIC: 크기 늘릴 때 사용(속도 느림, 퀄리티 좋음)\n",
    "3. cv2.INTER_LINEAR: 크기 늘릴 때 사용(기본값)\n",
    "\n",
    "보간법 적용하여 축소"
   ]
  },
  {
   "cell_type": "code",
   "execution_count": 18,
   "id": "51932f94-651b-4bd7-9bfb-80dc5dadba08",
   "metadata": {},
   "outputs": [
    {
     "data": {
      "text/plain": [
       "-1"
      ]
     },
     "execution_count": 18,
     "metadata": {},
     "output_type": "execute_result"
    }
   ],
   "source": [
    "import cv2\n",
    "img = cv2.imread('img.jpg')\n",
    "dst = cv2.resize(img, None, fx=0.5, fy=0.5, interpolation=cv2.INTER_AREA) # x, y 비율 정의(0.5배로 축소)\n",
    "\n",
    "while True:\n",
    "    cv2.imshow('img', img)\n",
    "    cv2.imshow('resize', dst)\n",
    "    if cv2.waitKey(1) & 0xFF == ord('q'):\n",
    "        break \n",
    "        \n",
    "cv2.destroyAllWindows()\n",
    "cv2.waitKey(1)"
   ]
  },
  {
   "cell_type": "markdown",
   "id": "eb2b10d1-9b1f-4bb3-9121-136d06a67124",
   "metadata": {},
   "source": [
    "보간법 적용하여 확대"
   ]
  },
  {
   "cell_type": "code",
   "execution_count": 20,
   "id": "34c15183-a653-4c21-b8cb-1e6e25221b1b",
   "metadata": {},
   "outputs": [
    {
     "data": {
      "text/plain": [
       "-1"
      ]
     },
     "execution_count": 20,
     "metadata": {},
     "output_type": "execute_result"
    }
   ],
   "source": [
    "import cv2\n",
    "img = cv2.imread('img.jpg')\n",
    "dst = cv2.resize(img, None, fx=1.5, fy=1.5, interpolation=cv2.INTER_CUBIC) # x, y 비율 정의(1.5배로 확대)\n",
    "\n",
    "while True:\n",
    "    cv2.imshow('img', img)\n",
    "    cv2.imshow('resize', dst)\n",
    "    if cv2.waitKey(1) & 0xFF == ord('q'):\n",
    "        break \n",
    "        \n",
    "cv2.destroyAllWindows()\n",
    "cv2.waitKey(1)"
   ]
  },
  {
   "cell_type": "markdown",
   "id": "7d888487-a06c-4581-b0fe-3adbdb6eafaf",
   "metadata": {},
   "source": [
    "## 동영상\n",
    "### 고정 크기로 설정 "
   ]
  },
  {
   "cell_type": "code",
   "execution_count": 34,
   "id": "c0bc26c1-bb23-4205-82fe-5b47d4ddadf2",
   "metadata": {},
   "outputs": [
    {
     "data": {
      "text/plain": [
       "-1"
      ]
     },
     "execution_count": 34,
     "metadata": {},
     "output_type": "execute_result"
    }
   ],
   "source": [
    "import cv2 \n",
    "cap = cv2.VideoCapture('video.mp4')\n",
    "\n",
    "while cap.isOpened():\n",
    "    ret, frame = cap.read()\n",
    "    if not ret:\n",
    "        break \n",
    "\n",
    "    frame_resized = cv2.resize(frame, (400, 500))\n",
    "    cv2.imshow('video', frame_resized)\n",
    "    if cv2.waitKey(1) == ord('q'):\n",
    "        break\n",
    "\n",
    "cap.release()\n",
    "cv2.destroyAllWindows()\n",
    "cv2.waitKey(1)"
   ]
  },
  {
   "cell_type": "markdown",
   "id": "1a7ac678-83e8-4984-8be2-8d3df9affa47",
   "metadata": {},
   "source": [
    "### 비율로 설정"
   ]
  },
  {
   "cell_type": "code",
   "execution_count": 32,
   "id": "f8944e89-0ac7-4a06-9997-b3865cc572dc",
   "metadata": {},
   "outputs": [
    {
     "data": {
      "text/plain": [
       "-1"
      ]
     },
     "execution_count": 32,
     "metadata": {},
     "output_type": "execute_result"
    }
   ],
   "source": [
    "import cv2 \n",
    "cap = cv2.VideoCapture('video.mp4')\n",
    "\n",
    "while cap.isOpened():\n",
    "    ret, frame = cap.read()\n",
    "    if not ret:\n",
    "        break \n",
    "\n",
    "    frame_resized = cv2.resize(frame, None, fx=1.5, fy=1.5, interpolation=cv2.INTER_CUBIC)\n",
    "    cv2.imshow('video', frame_resized)\n",
    "    if cv2.waitKey(1) == ord('q'):\n",
    "        break\n",
    "\n",
    "cap.release()\n",
    "cv2.destroyAllWindows()\n",
    "cv2.waitKey(1)"
   ]
  }
 ],
 "metadata": {
  "kernelspec": {
   "display_name": "Python [conda env:base] *",
   "language": "python",
   "name": "conda-base-py"
  },
  "language_info": {
   "codemirror_mode": {
    "name": "ipython",
    "version": 3
   },
   "file_extension": ".py",
   "mimetype": "text/x-python",
   "name": "python",
   "nbconvert_exporter": "python",
   "pygments_lexer": "ipython3",
   "version": "3.12.7"
  }
 },
 "nbformat": 4,
 "nbformat_minor": 5
}
