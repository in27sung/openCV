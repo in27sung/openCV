{
 "cells": [
  {
   "cell_type": "markdown",
   "id": "ba3d5485-e335-4d2a-be17-c8273ee6cbcc",
   "metadata": {},
   "source": [
    "# 환경 설정\n",
    "Terminal 에서 다음 명령 수행 \n",
    "> pip install opencv-python"
   ]
  },
  {
   "cell_type": "code",
   "execution_count": 6,
   "id": "e3950e16-7985-4a5e-a021-212bc776bbec",
   "metadata": {},
   "outputs": [
    {
     "data": {
      "text/plain": [
       "'4.10.0'"
      ]
     },
     "execution_count": 6,
     "metadata": {},
     "output_type": "execute_result"
    }
   ],
   "source": [
    "import cv2\n",
    "cv2.__version__"
   ]
  },
  {
   "cell_type": "markdown",
   "id": "d14fdcae-1c43-47b5-9fce-ab6aaa96719f",
   "metadata": {},
   "source": [
    "# OpenCV(Computer Vision)\n",
    "다양한 영상 (이미지) / 동영상 처리에 사용되는 오픈소스 라이브러리"
   ]
  },
  {
   "cell_type": "markdown",
   "id": "e43c107e-a76b-43a8-93f7-350b2b2c2783",
   "metadata": {},
   "source": [
    "# 1. 이미지 출력"
   ]
  },
  {
   "cell_type": "code",
   "execution_count": 7,
   "id": "623f32b6-89fd-49d3-85ad-4589e672b01e",
   "metadata": {},
   "outputs": [
    {
     "name": "stdout",
     "output_type": "stream",
     "text": [
      "-1\n"
     ]
    },
    {
     "data": {
      "text/plain": [
       "-1"
      ]
     },
     "execution_count": 7,
     "metadata": {},
     "output_type": "execute_result"
    }
   ],
   "source": [
    "import cv2\n",
    "img = cv2.imread('img.jpg') # 해당 경로의 파일 읽어오기\n",
    "cv2.imshow('img', img) # img 라는 이름의 창에 img를 표시\n",
    "key = cv2.waitKey(5000) # 지정된 시간 동안 사용자 키 입력 대기(0: infinity)\n",
    "print(key)\n",
    "cv2.destroyAllWindows() # 모든 창 닫기 \n",
    "cv2.waitKey(1) # 추가 대기 (이벤트 루프 처리)"
   ]
  },
  {
   "cell_type": "markdown",
   "id": "cc57962e-cff9-4804-bee9-6403b8f1f4fd",
   "metadata": {},
   "source": [
    "## 읽기 옵션 \n",
    "1. cv2.IMREAD_COLOR: 컬러 이미지, 투명 영역은 무시(기본값)\n",
    "2. cv2.IMREAD_GRAYSCALE: 흑백 이미지\n",
    "3. cv2.IMREAD_UNCHANGED: 투명 영역까지 포함"
   ]
  },
  {
   "cell_type": "code",
   "execution_count": 10,
   "id": "a4b84b53-0ed2-4fed-8b0d-0e6d3806109b",
   "metadata": {},
   "outputs": [
    {
     "data": {
      "text/plain": [
       "-1"
      ]
     },
     "execution_count": 10,
     "metadata": {},
     "output_type": "execute_result"
    }
   ],
   "source": [
    "import cv2\n",
    "img_color = cv2.imread('img.jpg', cv2.IMREAD_COLOR)\n",
    "img_gray = cv2.imread('img.jpg', cv2.IMREAD_GRAYSCALE)\n",
    "img_unchanged = cv2.imread('img.jpg', cv2.IMREAD_UNCHANGED)\n",
    "\n",
    "cv2.imshow('img_color', img_color)\n",
    "cv2.imshow('img_gray', img_gray)\n",
    "cv2.imshow('img_unchaged', img_unchanged)\n",
    "\n",
    "cv2.waitKey(0)\n",
    "cv2.destroyAllWindows()\n",
    "cv2.waitKey(1) # 추가 대기 (이벤트 루프 처리)"
   ]
  },
  {
   "cell_type": "markdown",
   "id": "8adbba55-0ca6-4598-b6fb-588b87d8c7fe",
   "metadata": {},
   "source": [
    "## Shape\n",
    "이미지의 height, width, channel 정보"
   ]
  },
  {
   "cell_type": "code",
   "execution_count": 14,
   "id": "eed90dfe-6ccf-4338-990f-6c0cd4cabeca",
   "metadata": {},
   "outputs": [
    {
     "data": {
      "text/plain": [
       "(427, 640, 3)"
      ]
     },
     "execution_count": 14,
     "metadata": {},
     "output_type": "execute_result"
    }
   ],
   "source": [
    "import cv2\n",
    "img = cv2.imread('img.jpg')\n",
    "img.shape # 세로, 가로, Channel(3 = RGB 3)"
   ]
  }
 ],
 "metadata": {
  "kernelspec": {
   "display_name": "Python [conda env:base] *",
   "language": "python",
   "name": "conda-base-py"
  },
  "language_info": {
   "codemirror_mode": {
    "name": "ipython",
    "version": 3
   },
   "file_extension": ".py",
   "mimetype": "text/x-python",
   "name": "python",
   "nbconvert_exporter": "python",
   "pygments_lexer": "ipython3",
   "version": "3.12.7"
  }
 },
 "nbformat": 4,
 "nbformat_minor": 5
}
