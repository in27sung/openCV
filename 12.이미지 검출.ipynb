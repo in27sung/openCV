{
 "cells": [
  {
   "cell_type": "markdown",
   "id": "59a106ee-407b-4c3d-9f30-3e0f87547ce6",
   "metadata": {},
   "source": [
    "# 이미지 검출\n",
    "## 경계선"
   ]
  },
  {
   "cell_type": "markdown",
   "id": "08b39e4a-ba09-4970-a892-63a2258920ea",
   "metadata": {},
   "source": [
    "## Canny Edge Detection"
   ]
  },
  {
   "cell_type": "code",
   "execution_count": 40,
   "id": "f67d2ff0-8275-4880-a4a3-910eabb4606a",
   "metadata": {},
   "outputs": [
    {
     "data": {
      "text/plain": [
       "-1"
      ]
     },
     "execution_count": 40,
     "metadata": {},
     "output_type": "execute_result"
    }
   ],
   "source": [
    "import cv2\n",
    "\n",
    "def update_threshold(pos):\n",
    "    \"\"\"트랙바 값 변경 시 이미지를 동적으로 업데이트\"\"\"\n",
    "    global img, name\n",
    "\n",
    "    # 트랙바 값 가져오기\n",
    "    threshold1 = cv2.getTrackbarPos('threshold1', name)\n",
    "    threshold2 = cv2.getTrackbarPos('threshold2', name)\n",
    "\n",
    "    # Canny 엣지 검출 결과 업데이트\n",
    "    canny = cv2.Canny(img, threshold1, threshold2)\n",
    "\n",
    "    # Canny 결과를 윈도우에 표시\n",
    "    cv2.imshow(name, canny)\n",
    "\n",
    "# 이미지 읽기\n",
    "img = cv2.imread('png/snowman.png')\n",
    "if img is None:\n",
    "    raise FileNotFoundError(\"이미지를 찾을 수 없습니다. 경로를 확인하세요.\")\n",
    "\n",
    "# 트랙바와 Canny 결과를 포함할 윈도우 이름 설정\n",
    "name = \"Trackbar with Canny\"\n",
    "cv2.namedWindow(name)\n",
    "\n",
    "# 트랙바 생성\n",
    "cv2.createTrackbar('threshold1', name, 0, 255, update_threshold)  # minVal\n",
    "cv2.createTrackbar('threshold2', name, 0, 255, update_threshold)  # maxVal\n",
    "\n",
    "# 초기 Canny 결과 표시\n",
    "threshold1 = cv2.getTrackbarPos('threshold1', name)\n",
    "threshold2 = cv2.getTrackbarPos('threshold2', name)\n",
    "canny = cv2.Canny(img, threshold1, threshold2)\n",
    "cv2.imshow(name, canny)\n",
    "\n",
    "# 'q' 키로 종료\n",
    "while True:\n",
    "    if cv2.waitKey(1) & 0xFF == ord('q'):\n",
    "        break\n",
    "\n",
    "# 모든 창 닫기\n",
    "cv2.destroyAllWindows()\n",
    "cv2.waitKey(1)"
   ]
  },
  {
   "cell_type": "markdown",
   "id": "f83a5709-4d1a-4c78-84b9-70d92a20e7fe",
   "metadata": {},
   "source": [
    "# 이미지 검출\n",
    "## 윤곽선(Contour): 경계선을 연결한 선"
   ]
  },
  {
   "cell_type": "code",
   "execution_count": null,
   "id": "c3fd5e3d-c268-4d89-be36-9dec4ffc8414",
   "metadata": {},
   "outputs": [],
   "source": [
    "import cv2\n",
    "img = cv2.imread('png/cards.png')\n",
    "target_img = img.copy() # 사본 이미지\n",
    "\n",
    "gray = cv2.cvtColor(img, cv2.COLOR_BGR2GRAY)\n",
    "ret, otsu = cv2.threshold(gray, -1, 255, cv2.THRESH_BINARY | cv2.THRESH_OTSU)\n",
    "\n",
    "contours, hierarchy = cv2.findContours(otsu, cv2.RETR_LIST, cv2.CHAIN_APPROX_NONE) # 윤곽선 검출\n",
    "# 윤곽선 정보, 계층 구조\n",
    "# 이미지, 윤곽선 찾는 모드(mode), 윤곽선 찾을 . 때사용하는 근사치 방법(method): CHAIN_APPROX_NONE: 모든 좌표, CHAIN_APPROX_SIMPLE: 꼭짓점만 \n",
    "\n",
    "COLOR = (0, 200, 0) # 녹색 \n",
    "THICKNESS = 2\n",
    "cv2.drawContours(target_img, contours, -1, COLOR, THICKNESS) # 윤곽선 그리기 \n",
    "# 대상 이미지, 윤곽선 정보, 인덱스(-1: 전체 이미지), 색상, 두께\n",
    "\n",
    "cv2.imshow('img', img)\n",
    "cv2.imshow('gray', gray)\n",
    "cv2.imshow('otsu', otsu)\n",
    "cv2.imshow('target_img', target_img)\n",
    "           \n",
    "cv2.waitKey(0)\n",
    "cv2.destroyAllWindows()\n",
    "cv2.waitKey(0)"
   ]
  },
  {
   "cell_type": "markdown",
   "id": "4a390844-941a-4826-832e-d41def70ff94",
   "metadata": {},
   "source": [
    "### 윤곽선 찾기 모드 \n",
    "1. cv2.RETR_EXTERNAL: 가장 외곽의 윤곽선만 찾음\n",
    "3. cv2.RETR_LIST: 모든 육곽선을 찾음(계층 정보 없음)\n",
    "4. cv2.RETR_TREE: 모든 윤곽선을 찾음(계층 정보를 트리 구조로 생성)"
   ]
  },
  {
   "cell_type": "code",
   "execution_count": 3,
   "id": "8981eaee-b264-4a92-b4c5-a2bf4fa28fd4",
   "metadata": {},
   "outputs": [
    {
     "name": "stdout",
     "output_type": "stream",
     "text": [
      "[[[ 1 -1 -1 -1]\n",
      "  [ 2  0 -1 -1]\n",
      "  [10  1  3 -1]\n",
      "  [ 5 -1  4  2]\n",
      "  [-1 -1 -1  3]\n",
      "  [ 6  3 -1  2]\n",
      "  [ 7  5 -1  2]\n",
      "  [ 8  6 -1  2]\n",
      "  [-1  7  9  2]\n",
      "  [-1 -1 -1  8]\n",
      "  [18  2 11 -1]\n",
      "  [13 -1 12 10]\n",
      "  [-1 -1 -1 11]\n",
      "  [14 11 -1 10]\n",
      "  [15 13 -1 10]\n",
      "  [16 14 -1 10]\n",
      "  [-1 15 17 10]\n",
      "  [-1 -1 -1 16]\n",
      "  [26 10 19 -1]\n",
      "  [21 -1 20 18]\n",
      "  [-1 -1 -1 19]\n",
      "  [22 19 -1 18]\n",
      "  [23 21 -1 18]\n",
      "  [24 22 -1 18]\n",
      "  [-1 23 25 18]\n",
      "  [-1 -1 -1 24]\n",
      "  [34 18 27 -1]\n",
      "  [29 -1 28 26]\n",
      "  [-1 -1 -1 27]\n",
      "  [30 27 -1 26]\n",
      "  [31 29 -1 26]\n",
      "  [32 30 -1 26]\n",
      "  [-1 31 33 26]\n",
      "  [-1 -1 -1 32]\n",
      "  [35 26 -1 -1]\n",
      "  [-1 34 -1 -1]]]\n",
      "총 발견 갯수: 36\n"
     ]
    },
    {
     "data": {
      "text/plain": [
       "66"
      ]
     },
     "execution_count": 3,
     "metadata": {},
     "output_type": "execute_result"
    }
   ],
   "source": [
    "import cv2\n",
    "img = cv2.imread('png/cards.png')\n",
    "target_img = img.copy() # 사본 이미지\n",
    "\n",
    "gray = cv2.cvtColor(img, cv2.COLOR_BGR2GRAY)\n",
    "ret, otsu = cv2.threshold(gray, -1, 255, cv2.THRESH_BINARY | cv2.THRESH_OTSU)\n",
    "\n",
    "# contours, hierarchy = cv2.findContours(otsu, cv2.RETR_LIST, cv2.CHAIN_APPROX_NONE) # 윤곽선 검출\n",
    "# contours, hierarchy = cv2.findContours(otsu, cv2.RETR_EXTERNAL, cv2.CHAIN_APPROX_NONE)\n",
    "contours, hierarchy = cv2.findContours(otsu, cv2.RETR_TREE, cv2.CHAIN_APPROX_NONE)\n",
    "print(hierarchy)\n",
    "print(f'총 발견 갯수: {len(contours)}')\n",
    "\n",
    "COLOR = (0, 200, 0) # 녹색 \n",
    "THICKNESS = 2\n",
    "cv2.drawContours(target_img, contours, -1, COLOR, THICKNESS) # 윤곽선 그리기 \n",
    "\n",
    "cv2.imshow('img', img)\n",
    "cv2.imshow('gray', gray)\n",
    "cv2.imshow('otsu', otsu)\n",
    "cv2.imshow('target_img', target_img)\n",
    "           \n",
    "cv2.waitKey(0)\n",
    "cv2.destroyAllWindows()\n",
    "cv2.waitKey(0)"
   ]
  },
  {
   "cell_type": "markdown",
   "id": "22abc1c2-1f66-485d-afb1-e57a752855dc",
   "metadata": {},
   "source": [
    "## 경계 사각형 \n",
    "윤곽선의 경계면을 둘러싸는 사각형 \n",
    "> `boundingRect()`"
   ]
  },
  {
   "cell_type": "code",
   "execution_count": 11,
   "id": "c56e962b-2777-432a-92ee-3ccc56ffaad1",
   "metadata": {},
   "outputs": [
    {
     "data": {
      "text/plain": [
       "113"
      ]
     },
     "execution_count": 11,
     "metadata": {},
     "output_type": "execute_result"
    }
   ],
   "source": [
    "import cv2\n",
    "img = cv2.imread('png/cards.png')\n",
    "target_img = img.copy() # 사본 이미지\n",
    "\n",
    "gray = cv2.cvtColor(img, cv2.COLOR_BGR2GRAY)\n",
    "ret, otsu = cv2.threshold(gray, -1, 255, cv2.THRESH_BINARY | cv2.THRESH_OTSU)\n",
    "contours, hierarchy = cv2.findContours(otsu, cv2.RETR_LIST, cv2.CHAIN_APPROX_NONE)\n",
    "\n",
    "COLOR = (0, 200, 0) # 녹색 \n",
    "\n",
    "for cnt in contours:\n",
    "    x, y, width, height = cv2.boundingRect(cnt)\n",
    "    cv2.rectangle(target_img, (x, y), (x + width, y + height), COLOR, 2) # 사각형 그림\n",
    "    \n",
    "cv2.imshow('img', img)\n",
    "cv2.imshow('gray', gray)\n",
    "cv2.imshow('otsu', otsu)\n",
    "cv2.imshow('target_img', target_img)\n",
    "           \n",
    "cv2.waitKey(0)\n",
    "cv2.destroyAllWindows()\n",
    "cv2.waitKey(0)"
   ]
  },
  {
   "cell_type": "markdown",
   "id": "c4d9bebe-0751-48ac-a7bb-ca8b4adb473a",
   "metadata": {},
   "source": [
    "## 면적\n",
    "> `contourArea()`"
   ]
  },
  {
   "cell_type": "code",
   "execution_count": null,
   "id": "801bc897-6a6d-42e0-acc3-9db18ed10e54",
   "metadata": {},
   "outputs": [],
   "source": [
    "import cv2\n",
    "img = cv2.imread('png/cards.png')\n",
    "target_img = img.copy() # 사본 이미지\n",
    "\n",
    "gray = cv2.cvtColor(img, cv2.COLOR_BGR2GRAY)\n",
    "ret, otsu = cv2.threshold(gray, -1, 255, cv2.THRESH_BINARY | cv2.THRESH_OTSU)\n",
    "contours, hierarchy = cv2.findContours(otsu, cv2.RETR_LIST, cv2.CHAIN_APPROX_NONE)\n",
    "\n",
    "COLOR = (0, 200, 0) # 녹색 \n",
    "\n",
    "for cnt in contours:\n",
    "    if cv2.contourArea(cnt) > 25000: # 카드 한장 크기: 가로 130 x 세로 205 = 26,650\n",
    "        x, y, width, height = cv2.boundingRect(cnt)\n",
    "        cv2.rectangle(target_img, (x, y), (x + width, y + height), COLOR, 2) # 사각형 그림\n",
    "        \n",
    "cv2.imshow('img', img)\n",
    "cv2.imshow('target_img', target_img)\n",
    "           \n",
    "cv2.waitKey(0)\n",
    "cv2.destroyAllWindows()\n",
    "cv2.waitKey(0)"
   ]
  }
 ],
 "metadata": {
  "kernelspec": {
   "display_name": "Python [conda env:base] *",
   "language": "python",
   "name": "conda-base-py"
  },
  "language_info": {
   "codemirror_mode": {
    "name": "ipython",
    "version": 3
   },
   "file_extension": ".py",
   "mimetype": "text/x-python",
   "name": "python",
   "nbconvert_exporter": "python",
   "pygments_lexer": "ipython3",
   "version": "3.12.7"
  }
 },
 "nbformat": 4,
 "nbformat_minor": 5
}
