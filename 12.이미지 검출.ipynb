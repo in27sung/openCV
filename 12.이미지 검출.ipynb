{
 "cells": [
  {
   "cell_type": "markdown",
   "id": "59a106ee-407b-4c3d-9f30-3e0f87547ce6",
   "metadata": {},
   "source": [
    "# 이미지 검출(경계선)"
   ]
  },
  {
   "cell_type": "markdown",
   "id": "08b39e4a-ba09-4970-a892-63a2258920ea",
   "metadata": {},
   "source": [
    "## Canny Edge Detection"
   ]
  },
  {
   "cell_type": "code",
   "execution_count": 40,
   "id": "f67d2ff0-8275-4880-a4a3-910eabb4606a",
   "metadata": {},
   "outputs": [
    {
     "data": {
      "text/plain": [
       "-1"
      ]
     },
     "execution_count": 40,
     "metadata": {},
     "output_type": "execute_result"
    }
   ],
   "source": [
    "import cv2\n",
    "\n",
    "def update_threshold(pos):\n",
    "    \"\"\"트랙바 값 변경 시 이미지를 동적으로 업데이트\"\"\"\n",
    "    global img, name\n",
    "\n",
    "    # 트랙바 값 가져오기\n",
    "    threshold1 = cv2.getTrackbarPos('threshold1', name)\n",
    "    threshold2 = cv2.getTrackbarPos('threshold2', name)\n",
    "\n",
    "    # Canny 엣지 검출 결과 업데이트\n",
    "    canny = cv2.Canny(img, threshold1, threshold2)\n",
    "\n",
    "    # Canny 결과를 윈도우에 표시\n",
    "    cv2.imshow(name, canny)\n",
    "\n",
    "# 이미지 읽기\n",
    "img = cv2.imread('png/snowman.png')\n",
    "if img is None:\n",
    "    raise FileNotFoundError(\"이미지를 찾을 수 없습니다. 경로를 확인하세요.\")\n",
    "\n",
    "# 트랙바와 Canny 결과를 포함할 윈도우 이름 설정\n",
    "name = \"Trackbar with Canny\"\n",
    "cv2.namedWindow(name)\n",
    "\n",
    "# 트랙바 생성\n",
    "cv2.createTrackbar('threshold1', name, 0, 255, update_threshold)  # minVal\n",
    "cv2.createTrackbar('threshold2', name, 0, 255, update_threshold)  # maxVal\n",
    "\n",
    "# 초기 Canny 결과 표시\n",
    "threshold1 = cv2.getTrackbarPos('threshold1', name)\n",
    "threshold2 = cv2.getTrackbarPos('threshold2', name)\n",
    "canny = cv2.Canny(img, threshold1, threshold2)\n",
    "cv2.imshow(name, canny)\n",
    "\n",
    "# 'q' 키로 종료\n",
    "while True:\n",
    "    if cv2.waitKey(1) & 0xFF == ord('q'):\n",
    "        break\n",
    "\n",
    "# 모든 창 닫기\n",
    "cv2.destroyAllWindows()\n",
    "cv2.waitKey(1)"
   ]
  },
  {
   "cell_type": "code",
   "execution_count": null,
   "id": "9d5d559e-7601-48c7-b323-7c6df96be35a",
   "metadata": {},
   "outputs": [],
   "source": []
  },
  {
   "cell_type": "code",
   "execution_count": null,
   "id": "c3fd5e3d-c268-4d89-be36-9dec4ffc8414",
   "metadata": {},
   "outputs": [],
   "source": []
  },
  {
   "cell_type": "code",
   "execution_count": null,
   "id": "901d0051-2eb2-4531-9eed-4c91b64bb6ae",
   "metadata": {},
   "outputs": [],
   "source": []
  },
  {
   "cell_type": "code",
   "execution_count": null,
   "id": "8981eaee-b264-4a92-b4c5-a2bf4fa28fd4",
   "metadata": {},
   "outputs": [],
   "source": []
  },
  {
   "cell_type": "code",
   "execution_count": null,
   "id": "84cd2fd4-481a-4703-999e-6f3208ca3ce6",
   "metadata": {},
   "outputs": [],
   "source": []
  },
  {
   "cell_type": "code",
   "execution_count": null,
   "id": "c56e962b-2777-432a-92ee-3ccc56ffaad1",
   "metadata": {},
   "outputs": [],
   "source": []
  },
  {
   "cell_type": "code",
   "execution_count": null,
   "id": "fa0fc066-fd40-4feb-86f9-b4d63f7b922f",
   "metadata": {},
   "outputs": [],
   "source": []
  }
 ],
 "metadata": {
  "kernelspec": {
   "display_name": "Python [conda env:base] *",
   "language": "python",
   "name": "conda-base-py"
  },
  "language_info": {
   "codemirror_mode": {
    "name": "ipython",
    "version": 3
   },
   "file_extension": ".py",
   "mimetype": "text/x-python",
   "name": "python",
   "nbconvert_exporter": "python",
   "pygments_lexer": "ipython3",
   "version": "3.12.7"
  }
 },
 "nbformat": 4,
 "nbformat_minor": 5
}
