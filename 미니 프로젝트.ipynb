{
 "cells": [
  {
   "cell_type": "markdown",
   "id": "03a66864-3518-4f82-b265-0df29feb2125",
   "metadata": {},
   "source": [
    "# 미니 프로젝트: 반자동 문서 스캐너"
   ]
  },
  {
   "cell_type": "markdown",
   "id": "813d96ef-142a-4d14-acb9-5df610cca0b5",
   "metadata": {},
   "source": [
    "## 마우스 이벤트 등록"
   ]
  },
  {
   "cell_type": "code",
   "execution_count": 3,
   "id": "a486ccbf-bade-4059-b73d-7b03d404ee20",
   "metadata": {},
   "outputs": [
    {
     "name": "stderr",
     "output_type": "stream",
     "text": [
      "2025-01-12 15:15:51.667 python[57640:3280038] +[IMKClient subclass]: chose IMKClient_Modern\n",
      "2025-01-12 15:15:51.667 python[57640:3280038] +[IMKInputSession subclass]: chose IMKInputSession_Modern\n"
     ]
    },
    {
     "name": "stdout",
     "output_type": "stream",
     "text": [
      "왼쪽 버튼 Down\n",
      "708 150\n",
      "왼쪽 버튼 Up\n",
      "708 150\n",
      "왼쪽 버튼 Down\n",
      "1129 415\n",
      "왼쪽 버튼 Up\n",
      "990 588\n",
      "왼쪽 버튼 Down\n",
      "724 1005\n",
      "왼쪽 버튼 Up\n",
      "724 1005\n",
      "왼쪽 버튼 Down\n",
      "286 699\n",
      "왼쪽 버튼 Up\n",
      "344 712\n",
      "왼쪽 버튼 Down\n",
      "970 705\n",
      "왼쪽 버튼 Up\n",
      "970 706\n"
     ]
    },
    {
     "data": {
      "text/plain": [
       "-1"
      ]
     },
     "execution_count": 3,
     "metadata": {},
     "output_type": "execute_result"
    }
   ],
   "source": [
    "import cv2\n",
    "\n",
    "def mouse_handler(event, x, y, flags, param):\n",
    "    if event == cv2.EVENT_LBUTTONDOWN: # 마우스 왼쪽 버튼 Down\n",
    "        print('왼쪽 버튼 Down')\n",
    "        # 좌표 표시\n",
    "        print(x, y)\n",
    "    elif event == cv2.EVENT_LBUTTONUP: # 마우스 왼쪽 버튼 Up\n",
    "        print('왼쪽 버튼 Up')\n",
    "        print(x, y)\n",
    "    if event == cv2.EVENT_LBUTTONDBLCLK: # 마우스 왼쪽 버튼 double click \n",
    "        print('왼쪽 버튼 Double click')\n",
    "    # elif event == cv2.EVENT_MOUSEMOVE: # 마우스 이동 \n",
    "    #     print('마우스 이동')\n",
    "    elif event == cv2.EVENT_RBUTTONDOWN: # 마우스 오른쪽 버튼 Down\n",
    "        print('오른쪽 버튼 Down')\n",
    "\n",
    "img = cv2.imread('jpg/poker.jpg')\n",
    "\n",
    "# 마우스 이벤트 처리를 위한 핸들러 적용에 필요한 window창 정의\n",
    "cv2.namedWindow('img') \n",
    "\n",
    "cv2.setMouseCallback('img', mouse_handler)\n",
    "\n",
    "while True:    \n",
    "    cv2.imshow('img', img)\n",
    "    \n",
    "    if cv2.waitKey(3) & 0xFF == ord('q'):\n",
    "     break \n",
    "        \n",
    "cv2.destroyAllWindows()\n",
    "cv2.waitKey(1)\n"
   ]
  },
  {
   "cell_type": "markdown",
   "id": "67554c93-6134-41fb-b433-b1bea1b65bab",
   "metadata": {},
   "source": [
    "## 더블클릭 동작 안할 시"
   ]
  },
  {
   "cell_type": "code",
   "execution_count": 69,
   "id": "c393f862-1c76-4a3c-8aa1-0d42bd721477",
   "metadata": {},
   "outputs": [],
   "source": [
    "import cv2\n",
    "import time\n",
    "\n",
    "last_click_time = 0  # 마지막 클릭 시간 기록\n",
    "\n",
    "def mouse_handler(event, x, y, flags, param):\n",
    "    global last_click_time\n",
    "    if event == cv2.EVENT_LBUTTONDOWN:\n",
    "        current_time = time.time()\n",
    "        if current_time - last_click_time < 0.3:  # 300ms 이내의 연속 클릭\n",
    "            print(\"Simulated Double Click\", x, y)\n",
    "        last_click_time = current_time\n",
    "\n",
    "# 이미지 로드\n",
    "img = cv2.imread(\"jpg/poker.jpg\")\n",
    "\n",
    "cv2.namedWindow(\"img\")\n",
    "cv2.setMouseCallback(\"img\", mouse_handler)\n",
    "\n",
    "while True:\n",
    "    cv2.imshow(\"img\", img)\n",
    "    if cv2.waitKey(1) & 0xFF == ord('q'):\n",
    "        break\n",
    "\n",
    "cv2.destroyAllWindows()\n",
    "cv2.waitKey(1)"
   ]
  },
  {
   "cell_type": "markdown",
   "id": "fb63c213-9fd0-4823-8857-52620af26e6c",
   "metadata": {},
   "source": [
    "## 프로젝트(반자동 스캐너)"
   ]
  },
  {
   "cell_type": "code",
   "execution_count": 72,
   "id": "f4b87256-3e47-4678-9f0c-6625689a5e98",
   "metadata": {
    "editable": true,
    "slideshow": {
     "slide_type": ""
    },
    "tags": []
   },
   "outputs": [
    {
     "data": {
      "text/plain": [
       "-1"
      ]
     },
     "execution_count": 72,
     "metadata": {},
     "output_type": "execute_result"
    }
   ],
   "source": [
    "import cv2\n",
    "import numpy as np\n",
    "\n",
    "# 전역 변수 정의\n",
    "point_list = []\n",
    "src_img = cv2.imread('jpg/poker.jpg')\n",
    "YELLOW = (80, 191, 246)\n",
    "RED = (0, 0, 255)\n",
    "THICKNESS = 3\n",
    "drawing = False # 선을 그릴지 여부 판단\n",
    "\n",
    "# 마우스 이벤트 핸들러 \n",
    "def mouse_handler(event, x, y, flags, param):\n",
    "    global drawing\n",
    "    dst_img = src_img.copy()\n",
    "\n",
    "    if event == cv2.EVENT_LBUTTONUP: # 왼쪽 버튼을 뗄 때\n",
    "        # 선 그리기 시작\n",
    "        drawing = True  \n",
    "        point_list.append((x, y))\n",
    "\n",
    "    if drawing:\n",
    "        prev_point = None # 직선의 시작점\n",
    "        \n",
    "        # 클릭한 지점 이미지에 표시 \n",
    "        for point in point_list:\n",
    "            cv2.circle(dst_img, point, 3, RED, cv2.FILLED)\n",
    "            cv2.circle(dst_img, point, 20, YELLOW, 2, cv2.LINE_AA) \n",
    "\n",
    "            if prev_point:\n",
    "                cv2.line(dst_img, prev_point, point, RED, THICKNESS, cv2.LINE_AA)\n",
    "            prev_point = point\n",
    "        \n",
    "        next_point = (x, y)\n",
    "        if len(point_list) == 4:\n",
    "            show_result() # 결과 출력\n",
    "            next_point = point_list[0] # 첫 번째 클릭한 지점\n",
    "            \n",
    "        cv2.line(dst_img, prev_point, next_point, RED, THICKNESS, cv2.LINE_AA)\n",
    "        \n",
    "    cv2.imshow('img', dst_img)\n",
    "\n",
    "def show_result():\n",
    "    width, height = 520, 710\n",
    "\n",
    "    src = np.float32(point_list)\n",
    "    dst = np.array([[0, 0], [width, 0], [width, height], [0, height]], dtype=np.float32) # Output 4개 지점\n",
    "    \n",
    "    matrix = cv2.getPerspectiveTransform(src, dst) # Matrix 얻어옴\n",
    "    result = cv2.warpPerspective(src_img, matrix, (width, height)) # matrix 대로 변환을 함\n",
    "    cv2.imshow('result', result)\n",
    "\n",
    "# 마우스 이벤트 처리를 위한 핸들러를 img란 이름의 윈도우로 미리 생성\n",
    "cv2.namedWindow(\"img\")\n",
    "cv2.setMouseCallback(\"img\", mouse_handler)\n",
    "cv2.imshow(\"img\", src_img)\n",
    "cv2.waitKey(0)\n",
    "cv2.destroyAllWindows()\n",
    "cv2.waitKey(1)"
   ]
  },
  {
   "cell_type": "markdown",
   "id": "a14b5890-31fd-4b94-a99d-cd450136d434",
   "metadata": {},
   "source": [
    "## 프로젝트(코드 품질 향상)"
   ]
  },
  {
   "cell_type": "code",
   "execution_count": 70,
   "id": "508ae5ab-b083-4aaf-b807-fdc29ab6314e",
   "metadata": {},
   "outputs": [
    {
     "name": "stderr",
     "output_type": "stream",
     "text": [
      "2025-01-12 16:14:47.017 python[57640:3280038] _TIPropertyValueIsValid called with 16 on nil context!\n",
      "2025-01-12 16:14:47.017 python[57640:3280038] imkxpc_getApplicationProperty:reply: called with incorrect property value 16, bailing.\n",
      "2025-01-12 16:14:47.017 python[57640:3280038] Text input context does not respond to _valueForTIProperty:\n"
     ]
    }
   ],
   "source": [
    "import cv2\n",
    "import numpy as np\n",
    "\n",
    "# 색상 및 선 두께 상수 정의\n",
    "COLORS = {\n",
    "    \"point\": (0, 0, 255),  # 빨간색 (점)\n",
    "    \"circle\": (80, 191, 246)  # 노란색 (원)\n",
    "}\n",
    "THICKNESS = 3\n",
    "POINT_RADIUS = 20\n",
    "\n",
    "# 글로벌 변수\n",
    "points = []\n",
    "src_image = cv2.imread('jpg/poker.jpg')\n",
    "\n",
    "# 마우스 이벤트 핸들러\n",
    "def handle_mouse_event(event, x, y, flags, param):\n",
    "    \"\"\"마우스 이벤트 처리\"\"\"\n",
    "    global points\n",
    "\n",
    "    # 왼쪽 버튼 클릭 후 뗄 때 동작\n",
    "    if event == cv2.EVENT_LBUTTONUP:\n",
    "        points.append((x, y))\n",
    "\n",
    "        # 4개 점이 선택되면 변환 결과 출력\n",
    "        if len(points) == 4:\n",
    "            draw_perspective_transform()\n",
    "\n",
    "    # 선택된 점과 현재 마우스 위치를 포함한 이미지를 업데이트\n",
    "    update_image_preview((x, y))\n",
    "\n",
    "def update_image_preview(current_point=None):\n",
    "    \"\"\"이미지에 선택된 점, 선, 미완성 선을 그려 업데이트\"\"\"\n",
    "    preview_image = src_image.copy()\n",
    "\n",
    "    # 점 및 선 그리기\n",
    "    prev_point = None\n",
    "    for point in points:\n",
    "        cv2.circle(preview_image, point, 3, COLORS[\"point\"], cv2.FILLED)  # 점\n",
    "        cv2.circle(preview_image, point, POINT_RADIUS, COLORS[\"circle\"], 2, cv2.LINE_AA)  # 원\n",
    "        if prev_point:\n",
    "            cv2.line(preview_image, prev_point, point, COLORS[\"point\"], THICKNESS, cv2.LINE_AA)\n",
    "        prev_point = point\n",
    "\n",
    "    # 미완성 선 그리기\n",
    "    if current_point and points:\n",
    "        cv2.line(preview_image, points[-1], current_point, COLORS[\"point\"], THICKNESS, cv2.LINE_AA)\n",
    "\n",
    "    # 닫힌 사각형 그리기\n",
    "    if len(points) == 4:\n",
    "        cv2.line(preview_image, points[-1], points[0], COLORS[\"point\"], THICKNESS, cv2.LINE_AA)\n",
    "\n",
    "    cv2.imshow(\"Image\", preview_image)\n",
    "\n",
    "def draw_perspective_transform():\n",
    "    \"\"\"선택한 4개 점으로 Perspective Transform 적용\"\"\"\n",
    "    width, height = 520, 710\n",
    "    destination_points = np.array([[0, 0], [width, 0], [width, height], [0, height]], dtype=np.float32)\n",
    "    source_points = np.float32(points)\n",
    "\n",
    "    # 변환 행렬 계산 및 이미지 변환\n",
    "    transform_matrix = cv2.getPerspectiveTransform(source_points, destination_points)\n",
    "    transformed_image = cv2.warpPerspective(src_image, transform_matrix, (width, height))\n",
    "\n",
    "    cv2.imshow(\"Transformed Image\", transformed_image)\n",
    "\n",
    "# 메인 함수\n",
    "def main():\n",
    "    \"\"\"메인 실행 함수\"\"\"\n",
    "    cv2.namedWindow(\"Image\")\n",
    "    cv2.setMouseCallback(\"Image\", handle_mouse_event)\n",
    "    cv2.imshow(\"Image\", src_image)\n",
    "    cv2.waitKey(0)\n",
    "    cv2.destroyAllWindows()\n",
    "    cv2.waitKey(1)\n",
    "\n",
    "if __name__ == \"__main__\":\n",
    "    main()"
   ]
  },
  {
   "cell_type": "code",
   "execution_count": null,
   "id": "6f00abd4-52c2-4a92-afaa-a8ebd601e7e5",
   "metadata": {},
   "outputs": [],
   "source": []
  },
  {
   "cell_type": "code",
   "execution_count": null,
   "id": "1229eac8-e279-4096-965b-e5995ae877ef",
   "metadata": {},
   "outputs": [],
   "source": []
  },
  {
   "cell_type": "code",
   "execution_count": null,
   "id": "b08c2427-f653-40c5-b964-bba17c96940c",
   "metadata": {},
   "outputs": [],
   "source": []
  },
  {
   "cell_type": "markdown",
   "id": "531660e8-fd23-490f-a2b5-630dcdf46883",
   "metadata": {},
   "source": [
    "## 마우스 클릭을 통한 이미지 좌표 정보 가져오기"
   ]
  },
  {
   "cell_type": "code",
   "execution_count": 1,
   "id": "edef4486-f9d4-4c19-a11b-1802130be850",
   "metadata": {},
   "outputs": [
    {
     "name": "stderr",
     "output_type": "stream",
     "text": [
      "2025-01-11 21:32:09.107 python[45736:2750635] +[IMKClient subclass]: chose IMKClient_Modern\n",
      "2025-01-11 21:32:09.107 python[45736:2750635] +[IMKInputSession subclass]: chose IMKInputSession_Modern\n"
     ]
    },
    {
     "name": "stdout",
     "output_type": "stream",
     "text": [
      "Clicked coordinates: (685, 538)\n",
      "Clicked coordinates: (997, 536)\n",
      "Clicked coordinates: (998, 814)\n",
      "Clicked coordinates: (685, 815)\n"
     ]
    },
    {
     "name": "stderr",
     "output_type": "stream",
     "text": [
      "2025-01-11 21:34:11.388 python[45736:2750635] _TIPropertyValueIsValid called with 16 on nil context!\n",
      "2025-01-11 21:34:11.388 python[45736:2750635] imkxpc_getApplicationProperty:reply: called with incorrect property value 16, bailing.\n",
      "2025-01-11 21:34:11.388 python[45736:2750635] Text input context does not respond to _valueForTIProperty:\n"
     ]
    },
    {
     "data": {
      "text/plain": [
       "-1"
      ]
     },
     "execution_count": 1,
     "metadata": {},
     "output_type": "execute_result"
    }
   ],
   "source": [
    "import cv2\n",
    "\n",
    "# 이미지 로드\n",
    "image = cv2.imread('main.jpeg')  # 이미지 파일 경로\n",
    "\n",
    "# 마우스 클릭 이벤트 함수\n",
    "def get_coordinates(event, x, y, flags, param):\n",
    "    if event == cv2.EVENT_LBUTTONDOWN:  # 마우스 왼쪽 버튼 클릭\n",
    "        print(f\"Clicked coordinates: ({x}, {y})\")\n",
    "\n",
    "# 창 열기 및 마우스 이벤트 연결\n",
    "cv2.imshow('Image', image)\n",
    "cv2.setMouseCallback('Image', get_coordinates)\n",
    "\n",
    "# 키 입력 대기\n",
    "cv2.waitKey(0)\n",
    "cv2.destroyAllWindows()\n",
    "cv2.waitKey(1)"
   ]
  },
  {
   "cell_type": "code",
   "execution_count": null,
   "id": "d7f846da-2ee0-4c10-9fd3-a8ffced8cf7d",
   "metadata": {},
   "outputs": [],
   "source": [
    "import cv2\n",
    "import numpy as np\n",
    "\n",
    "# Step 1: 이미지 불러오기\n",
    "original_image = cv2.imread('main.jpeg')  # 대상 이미지 경로\n",
    "new_qr_code = cv2.imread('qr_code.png')  # 교체할 QR 코드 이미지 경로\n",
    "\n",
    "# Step 2: QR 코드 영역의 좌표 설정 (사용자가 제공한 좌표)\n",
    "# 좌표: 시계 방향 (좌상, 우상, 우하, 좌하)\n",
    "points = np.array([[680, 525], [1000, 525], [1000, 815], [680, 815]])\n",
    "\n",
    "# Step 3: 새로운 QR 코드 크기를 원본 영역에 맞추기\n",
    "# 원본 QR 코드 영역의 너비와 높이 계산\n",
    "width = int(np.linalg.norm(points[1] - points[0]))  # 상단 너비\n",
    "height = int(np.linalg.norm(points[2] - points[1]))  # 오른쪽 높이\n",
    "resized_qr = cv2.resize(new_qr_code, (width, height))  # 새로운 QR 코드 크기 조정\n",
    "\n",
    "\n",
    "# Step 4: QR 코드 영역에 새로운 QR 코드 삽입\n",
    "# 원본 이미지에 QR 코드 삽입 (4개의 점 좌표를 기준으로)\n",
    "dst_points = np.array([\n",
    "    [680, 530],  # 좌상\n",
    "    [680 + width, 530],  # 우상\n",
    "    [680 + width, 530 + height],  # 우하\n",
    "    [680, 530 + height]  # 좌하\n",
    "], dtype=\"float32\")\n",
    "\n",
    "# 새로운 QR 코드의 4개 코너 정의\n",
    "src_points = np.array([[0, 0], [width, 0], [width, height], [0, height]], dtype=\"float32\")\n",
    "\n",
    "# 변환 행렬 계산\n",
    "matrix = cv2.getPerspectiveTransform(src_points, dst_points)\n",
    "\n",
    "# QR 코드 변환\n",
    "warped_qr = cv2.warpPerspective(resized_qr, matrix, (original_image.shape[1], original_image.shape[0]))\n",
    "\n",
    "# 마스크 생성 및 QR 코드 삽입\n",
    "mask = np.zeros_like(original_image, dtype=np.uint8)\n",
    "cv2.fillConvexPoly(mask, dst_points.astype(int), (255, 255, 255))\n",
    "\n",
    "# 원본 이미지에서 QR 코드 영역 제거\n",
    "masked_image = cv2.bitwise_and(original_image, cv2.bitwise_not(mask))\n",
    "\n",
    "# Step 5: QR 코드 주변 블러 효과 추가\n",
    "blur_mask = cv2.GaussianBlur(warped_qr, (51, 51), 0)\n",
    "\n",
    "# 흰 조명을 자연스럽게 조화시키기\n",
    "blended_qr = cv2.addWeighted(warped_qr, 0.8, blur_mask, 0.2, 0)\n",
    "\n",
    "# 최종 이미지 합성\n",
    "result_image = cv2.add(masked_image, blended_qr)\n",
    "\n",
    "# Step 6: 결과 이미지 저장 및 표시\n",
    "cv2.imwrite('result_modified.jpg', result_image)\n",
    "cv2.imshow('Modified Image', result_image)\n",
    "cv2.waitKey(0)\n",
    "cv2.destroyAllWindows()\n",
    "cv2.waitKey(1)"
   ]
  },
  {
   "cell_type": "code",
   "execution_count": 1,
   "id": "17bb8779-6081-40e0-bdc9-904da4262764",
   "metadata": {},
   "outputs": [
    {
     "data": {
      "image/png": "[encoded data removed]",
      "text/plain": [
       "<IPython.core.display.Image object>"
      ]
     },
     "metadata": {},
     "output_type": "display_data"
    }
   ],
   "source": [
    "import qrcode\n",
    "from IPython.display import Image\n",
    "\n",
    "# QR 코드에 담을 URL\n",
    "url = \"http://c7d2408t1p1.itwillbs.com/\"\n",
    "\n",
    "# QR 코드 생성\n",
    "qr = qrcode.QRCode(\n",
    "    version=1,  # QR 코드 크기 (1~40), 숫자가 클수록 세부 정보 추가 가능\n",
    "    error_correction=qrcode.constants.ERROR_CORRECT_H,  # 오류 복원 수준 (L, M, Q, H)\n",
    "    box_size=10,  # QR 코드의 박스 크기\n",
    "    border=4,  # 테두리 크기\n",
    ")\n",
    "\n",
    "# URL 데이터 추가\n",
    "qr.add_data(url)\n",
    "qr.make(fit=True)\n",
    "\n",
    "# QR 코드 이미지 생성\n",
    "qr_image = qr.make_image(fill_color=\"black\", back_color=\"white\")\n",
    "\n",
    "# 파일 저장\n",
    "output_path = \"qr_code.png\"  # 저장할 파일 이름\n",
    "qr_image.save(output_path)\n",
    "\n",
    "# Jupyter Notebook에서 QR 코드 이미지 표시\n",
    "display(Image(output_path))"
   ]
  },
  {
   "cell_type": "markdown",
   "id": "21db9783-8c01-4256-8307-05f0a1e4e3a0",
   "metadata": {},
   "source": [
    "## 이미지 뒷 배경 지우기"
   ]
  },
  {
   "cell_type": "code",
   "execution_count": 26,
   "id": "754c04fb-726a-4147-b2c6-2fb24eae8f38",
   "metadata": {},
   "outputs": [
    {
     "name": "stdout",
     "output_type": "stream",
     "text": [
      "배경이 제거된 이미지가 'logo_no_bg.png'로 저장되었습니다.\n"
     ]
    }
   ],
   "source": [
    "import cv2\n",
    "import numpy as np\n",
    "\n",
    "# Step 1: 이미지 불러오기\n",
    "image = cv2.imread('logo_text_white_opencv.png')  # 대상 이미지 파일 경로\n",
    "image = cv2.cvtColor(image, cv2.COLOR_BGR2BGRA)  # 알파 채널 추가\n",
    "\n",
    "# Step 2: 흰색 배경 마스크 생성\n",
    "lower_white = np.array([240, 240, 240, 0])  # 흰색의 하한값 (B, G, R, A)\n",
    "upper_white = np.array([255, 255, 255, 255])  # 흰색의 상한값 (B, G, R, A)\n",
    "mask = cv2.inRange(image, lower_white, upper_white)\n",
    "\n",
    "# Step 3: 마스크 반전 및 알파 채널 수정\n",
    "image[:, :, 3] = cv2.bitwise_not(mask)  # 알파 채널에 반전 마스크 적용\n",
    "\n",
    "# Step 4: 결과 저장\n",
    "cv2.imwrite('logo_no_bg_white_text.png', image)\n",
    "\n",
    "print(\"배경이 제거된 이미지가 'logo_no_bg_white_text.png'로 저장되었습니다.\")"
   ]
  },
  {
   "cell_type": "markdown",
   "id": "3195b6fb-fee0-4e3e-bebb-73efd8600364",
   "metadata": {},
   "source": [
    "## 이미지 글자 색 바꾸기"
   ]
  },
  {
   "cell_type": "code",
   "execution_count": 24,
   "id": "a27ce9c6-62e2-4549-99e6-3c948fcc0582",
   "metadata": {},
   "outputs": [
    {
     "data": {
      "text/plain": [
       "-1"
      ]
     },
     "execution_count": 24,
     "metadata": {},
     "output_type": "execute_result"
    }
   ],
   "source": [
    "import cv2\n",
    "import numpy as np\n",
    "\n",
    "# Step 1: 이미지 불러오기\n",
    "image = cv2.imread('logo_no_bg.png')\n",
    "\n",
    "# Step 2: HSV 변환 (특정 색상 영역 탐지)\n",
    "hsv = cv2.cvtColor(image, cv2.COLOR_BGR2HSV)\n",
    "lower_black = np.array([0, 0, 0])  # 검정색 범위 (하단)\n",
    "upper_black = np.array([180, 255, 50])  # 검정색 범위 (상단)\n",
    "\n",
    "# Step 3: 검정색 텍스트에 대한 마스크 생성\n",
    "mask = cv2.inRange(hsv, lower_black, upper_black)\n",
    "\n",
    "# Step 4: 마스크 영역의 색상 변경 (흰색)\n",
    "image[mask > 0] = [239, 239, 239]  # 흰색으로 변경\n",
    "\n",
    "# Step 5: 결과 저장 및 확인\n",
    "cv2.imwrite('logo_text_white_opencv.png', image)\n",
    "cv2.imshow('Modified Logo', image)\n",
    "cv2.waitKey(0)\n",
    "cv2.destroyAllWindows()\n",
    "cv2.waitKey(1)"
   ]
  },
  {
   "cell_type": "code",
   "execution_count": null,
   "id": "7cf4d861-b005-4a48-81e6-0b7922096dbb",
   "metadata": {},
   "outputs": [],
   "source": []
  }
 ],
 "metadata": {
  "kernelspec": {
   "display_name": "Python [conda env:base] *",
   "language": "python",
   "name": "conda-base-py"
  },
  "language_info": {
   "codemirror_mode": {
    "name": "ipython",
    "version": 3
   },
   "file_extension": ".py",
   "mimetype": "text/x-python",
   "name": "python",
   "nbconvert_exporter": "python",
   "pygments_lexer": "ipython3",
   "version": "3.12.7"
  }
 },
 "nbformat": 4,
 "nbformat_minor": 5
}
