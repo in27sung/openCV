{
 "cells": [
  {
   "cell_type": "markdown",
   "id": "f752c815-03c0-40ab-b7ce-1ef3a6932972",
   "metadata": {},
   "source": [
    "# 퀴즈"
   ]
  },
  {
   "cell_type": "markdown",
   "id": "93cd0633-f230-4b30-8031-3d07f63fd8d0",
   "metadata": {},
   "source": [
    "## OpenCV를 이용하여 가로로 촬영된 동영상을 세로로 회전하는 프로그램을 작성하시오.\n",
    "\n",
    "1. 회전: 시계 반대방향으로 90도\n",
    "2. 재생속도(FPS): 원본 x 4배속\n",
    "3. 출력 파일명: city_output.mov\n",
    "   - 원본 파일명: city.mp4"
   ]
  },
  {
   "cell_type": "code",
   "execution_count": 46,
   "id": "c27f6d72-e924-4089-b9ee-7949b36905c2",
   "metadata": {},
   "outputs": [
    {
     "name": "stderr",
     "output_type": "stream",
     "text": [
      "OpenCV: FFMPEG: tag 0x34363248/'H264' is not supported with codec id 27 and format 'mov / QuickTime / MOV'\n",
      "OpenCV: FFMPEG: fallback to use tag 0x31637661/'avc1'\n"
     ]
    },
    {
     "name": "stdout",
     "output_type": "stream",
     "text": [
      "더 이상 가져올 프레임이 없습니다\n"
     ]
    },
    {
     "data": {
      "text/plain": [
       "-1"
      ]
     },
     "execution_count": 46,
     "metadata": {},
     "output_type": "execute_result"
    }
   ],
   "source": [
    "import cv2\n",
    "cap = cv2.VideoCapture('mp4/city.mp4')\n",
    "\n",
    "# 원본 비디오 속성 가져오기\n",
    "width = round(cap.get(cv2.CAP_PROP_FRAME_WIDTH)) # datetype(int)\n",
    "height = round(cap.get(cv2.CAP_PROP_FRAME_HEIGHT)) # datetype(int)\n",
    "fps = cap.get(cv2.CAP_PROP_FPS)\n",
    "\n",
    "# 출력 비디오 설정\n",
    "fourcc = cv2.VideoWriter_fourcc(*'H264')\n",
    "out = cv2.VideoWriter('city_output.mov', fourcc, fps * 4, (height, width))\n",
    "\n",
    "while cap.isOpened():\n",
    "    ret, frame = cap.read()\n",
    "    if not ret:\n",
    "        print(\"더 이상 가져올 프레임이 없습니다\")\n",
    "        break\n",
    "        \n",
    "    # 회전(시계 반대방향으로 90deg)\n",
    "    rotated_frame = cv2.rotate(frame, cv2.ROTATE_90_COUNTERCLOCKWISE)\n",
    "\n",
    "    # 출력 비디오 저장 \n",
    "    out.write(rotated_frame)\n",
    "\n",
    "    # 영상 출력\n",
    "    cv2.imshow('video', rotated_frame)\n",
    "\n",
    "    if cv2.waitKey(1) == ord('q'):\n",
    "        print(\"영상 종료\")\n",
    "        break\n",
    "\n",
    "out.release()\n",
    "cap.release()\n",
    "cv2.destroyAllWindows()\n",
    "cv2.waitKey(1)"
   ]
  }
 ],
 "metadata": {
  "kernelspec": {
   "display_name": "Python [conda env:base] *",
   "language": "python",
   "name": "conda-base-py"
  },
  "language_info": {
   "codemirror_mode": {
    "name": "ipython",
    "version": 3
   },
   "file_extension": ".py",
   "mimetype": "text/x-python",
   "name": "python",
   "nbconvert_exporter": "python",
   "pygments_lexer": "ipython3",
   "version": "3.12.7"
  }
 },
 "nbformat": 4,
 "nbformat_minor": 5
}
