{
 "cells": [
  {
   "cell_type": "markdown",
   "id": "5684ea31-701a-4057-838f-f8244c71dc20",
   "metadata": {},
   "source": [
    "# 10. 이미지 변형"
   ]
  },
  {
   "cell_type": "markdown",
   "id": "3f64ad96-51cf-454e-9d17-5eb8382aa91e",
   "metadata": {},
   "source": [
    "## 불러온 이미지를 흑백으로 읽음 "
   ]
  },
  {
   "cell_type": "code",
   "execution_count": 39,
   "id": "7a92cdf7-2b09-43f7-ad48-c551f29cae84",
   "metadata": {},
   "outputs": [
    {
     "data": {
      "text/plain": [
       "-1"
      ]
     },
     "execution_count": 39,
     "metadata": {},
     "output_type": "execute_result"
    }
   ],
   "source": [
    "import cv2\n",
    "img = cv2.imread('jpg/img.jpg', cv2.IMREAD_GRAYSCALE)\n",
    "\n",
    "while True:\n",
    "    cv2.imshow('img', img)\n",
    "    if cv2.waitKey(1) & 0xFF == ord('q'):\n",
    "        break\n",
    "        \n",
    "cv2.destroyAllWindows()\n",
    "cv2.waitKey(1)"
   ]
  },
  {
   "cell_type": "markdown",
   "id": "c266124d-9bc8-4de5-b666-49b8066cf314",
   "metadata": {},
   "source": [
    "## 불러온 이미지를 흑백으로 변경"
   ]
  },
  {
   "cell_type": "code",
   "execution_count": 6,
   "id": "f9539d19-5dab-477c-b783-fa803f058e84",
   "metadata": {},
   "outputs": [
    {
     "data": {
      "text/plain": [
       "-1"
      ]
     },
     "execution_count": 6,
     "metadata": {},
     "output_type": "execute_result"
    }
   ],
   "source": [
    "import cv2\n",
    "img = cv2.imread('img.jpg')\n",
    "\n",
    "dst = cv2.cvtColor(img, cv2.COLOR_BGR2GRAY)\n",
    "\n",
    "while True:\n",
    "    cv2.imshow('img', img)\n",
    "    cv2.imshow('gray', dst)\n",
    "    if cv2.waitKey(1) & 0xFF == ord('q'):\n",
    "        break\n",
    "        \n",
    "cv2.destroyAllWindows()\n",
    "cv2.waitKey(1)"
   ]
  },
  {
   "cell_type": "markdown",
   "id": "760b2e15-bb68-49c4-8f66-e9c725f2826a",
   "metadata": {},
   "source": [
    "# 이미지 변형(흐림)"
   ]
  },
  {
   "cell_type": "markdown",
   "id": "c7dc76fa-f2db-4616-89a2-5c733290a610",
   "metadata": {},
   "source": [
    "## 가우시안 블러"
   ]
  },
  {
   "cell_type": "markdown",
   "id": "d3a364e0-dd67-43d1-bf39-f9ece2634532",
   "metadata": {},
   "source": [
    "### 커널 사이즈 변화에 따른 흐림"
   ]
  },
  {
   "cell_type": "code",
   "execution_count": 27,
   "id": "adac9e36-cd22-44b9-aafa-a40132d5481b",
   "metadata": {},
   "outputs": [
    {
     "data": {
      "text/plain": [
       "-1"
      ]
     },
     "execution_count": 27,
     "metadata": {},
     "output_type": "execute_result"
    }
   ],
   "source": [
    "import cv2 \n",
    "img = cv2.imread('img.jpg')\n",
    "\n",
    "# (3, 3), (5, 5), (7, 7)\n",
    "kernel_3 = cv2.GaussianBlur(img, (3, 3), 0)\n",
    "kernel_5 = cv2.GaussianBlur(img, (5, 5), 0)\n",
    "kernel_7 = cv2.GaussianBlur(img, (7, 7), 0)\n",
    "\n",
    "while True:\n",
    "    cv2.imshow('img', img)\n",
    "    cv2.imshow('kernel_3', kernel_3)\n",
    "    cv2.imshow('kernel_5', kernel_5)\n",
    "    cv2.imshow('kernel_7', kernel_7)\n",
    "    if cv2.waitKey(1) & 0xFF == ord('q'):\n",
    "        break\n",
    "    \n",
    "cv2.destroyAllWindows()\n",
    "cv2.waitKey(1)"
   ]
  },
  {
   "cell_type": "markdown",
   "id": "f41cbb37-4f75-4b9e-9426-3b405e4a279e",
   "metadata": {},
   "source": [
    "### 커널 편차 변화에 따른 흐림"
   ]
  },
  {
   "cell_type": "code",
   "execution_count": null,
   "id": "fb69a6d9-c004-4493-beb6-9313a11da815",
   "metadata": {},
   "outputs": [],
   "source": [
    "import cv2 \n",
    "img = cv2.imread('img.jpg')\n",
    "\n",
    "\n",
    "sigma_1 = cv2.GaussianBlur(img, (0, 0), 1) # SigmaX - 가우시안 커널의 x 방향의 표준 편차\n",
    "sigma_2 = cv2.GaussianBlur(img, (0, 0), 2) \n",
    "sigma_3 = cv2.GaussianBlur(img, (0, 0), 3)\n",
    "\n",
    "while True:\n",
    "    cv2.imshow('img', img)\n",
    "    cv2.imshow('sigma_1', sigma_1)\n",
    "    cv2.imshow('sigma_2', sigma_2)\n",
    "    cv2.imshow('sigma_3', sigma_3)\n",
    "    if cv2.waitKey(1) & 0xFF == ord('q'):\n",
    "        break\n",
    "    \n",
    "cv2.destroyAllWindows()\n",
    "cv2.waitKey(1)"
   ]
  },
  {
   "cell_type": "markdown",
   "id": "23e021c5-8c2d-406a-85d2-4108f40c087f",
   "metadata": {},
   "source": [
    "# 이미지 변형(원근)"
   ]
  },
  {
   "cell_type": "code",
   "execution_count": 11,
   "id": "4a147ff6-2c7f-4866-823a-8e253a27c7ce",
   "metadata": {},
   "outputs": [
    {
     "data": {
      "text/plain": [
       "-1"
      ]
     },
     "execution_count": 11,
     "metadata": {},
     "output_type": "execute_result"
    }
   ],
   "source": [
    "import cv2\n",
    "import numpy as np\n",
    "\n",
    "img = cv2.imread('jpg/newspaper.jpg')\n",
    "\n",
    "width, height = 640, 240 # 가로 640, 세로 240 으로 결과물 출력 \n",
    "\n",
    "# screenShot(Command + Shift + 4) or Digital Color Meter를 활용해 픽셀 위치 확인 \n",
    "src = np.array([[511, 352], [1008, 345], [1122, 584], [455, 594]], dtype=np.float32) # Input 4개 지점\n",
    "dst = np.array([[0, 0], [width, 0], [width, height], [0, height]], dtype=np.float32) # Output 4개 지점\n",
    "\n",
    "matrix = cv2.getPerspectiveTransform(src, dst) # Matrix 얻어옴\n",
    "result = cv2.warpPerspective(img, matrix, (width, height)) # matrix 대로 변환을 함\n",
    "\n",
    "while True:\n",
    "    cv2.imshow('img', img)\n",
    "    cv2.imshow('result', result)\n",
    "    \n",
    "    if cv2.waitKey(1) & 0xFF == ord('q'):\n",
    "        break\n",
    "    \n",
    "cv2.destroyAllWindows()\n",
    "cv2.waitKey(1)"
   ]
  },
  {
   "cell_type": "markdown",
   "id": "802d6dde-346e-43fa-8256-2138cd797e73",
   "metadata": {},
   "source": [
    "## 회전된 이미지 올바로 세우기"
   ]
  },
  {
   "cell_type": "code",
   "execution_count": 32,
   "id": "c9470081-a310-453e-87bc-91ccb1384cf2",
   "metadata": {},
   "outputs": [
    {
     "name": "stderr",
     "output_type": "stream",
     "text": [
      "2025-01-11 17:14:09.034 python[39497:2448771] _TIPropertyValueIsValid called with 16 on nil context!\n",
      "2025-01-11 17:14:09.034 python[39497:2448771] imkxpc_getApplicationProperty:reply: called with incorrect property value 16, bailing.\n",
      "2025-01-11 17:14:09.034 python[39497:2448771] Text input context does not respond to _valueForTIProperty:\n",
      "2025-01-11 17:14:27.146 python[39497:2448771] _TIPropertyValueIsValid called with 16 on nil context!\n",
      "2025-01-11 17:14:27.146 python[39497:2448771] imkxpc_getApplicationProperty:reply: called with incorrect property value 16, bailing.\n",
      "2025-01-11 17:14:27.146 python[39497:2448771] Text input context does not respond to _valueForTIProperty:\n"
     ]
    },
    {
     "data": {
      "text/plain": [
       "-1"
      ]
     },
     "execution_count": 32,
     "metadata": {},
     "output_type": "execute_result"
    }
   ],
   "source": [
    "import cv2\n",
    "import numpy as np\n",
    "\n",
    "img = cv2.imread('jpg/poker.jpg')\n",
    "\n",
    "width, height = 520, 710\n",
    "\n",
    "src = np.array([[702, 143], [1133, 417], [730, 1000], [276, 700]], dtype=np.float32) # Input 4개 지점\n",
    "dst = np.array([[0, 0], [width, 0], [width, height], [0, height]], dtype=np.float32) # Output 4개 지점\n",
    "\n",
    "matrix = cv2.getPerspectiveTransform(src, dst) # Matrix 얻어옴\n",
    "result = cv2.warpPerspective(img, matrix, (width, height)) # matrix 대로 변환을 함\n",
    "\n",
    "while True:\n",
    "    cv2.imshow('img', img)\n",
    "    cv2.imshow('result', result)\n",
    "    \n",
    "    if cv2.waitKey(1) & 0xFF == ord('q'):\n",
    "        break\n",
    "    \n",
    "cv2.destroyAllWindows()\n",
    "cv2.waitKey(1)"
   ]
  },
  {
   "cell_type": "code",
   "execution_count": null,
   "id": "dc0d89f6-6412-4c01-ab86-9c86c5e1d02e",
   "metadata": {},
   "outputs": [],
   "source": []
  },
  {
   "cell_type": "code",
   "execution_count": null,
   "id": "9a1708c5-e1a1-4b18-9e61-3560dc3bea3c",
   "metadata": {},
   "outputs": [],
   "source": []
  },
  {
   "cell_type": "code",
   "execution_count": null,
   "id": "bb4dcaec-5472-4119-a81f-e866e8d75b73",
   "metadata": {},
   "outputs": [],
   "source": []
  },
  {
   "cell_type": "code",
   "execution_count": null,
   "id": "64d9c289-7a0b-40ab-acbc-a6f7c40aabc2",
   "metadata": {},
   "outputs": [],
   "source": []
  }
 ],
 "metadata": {
  "kernelspec": {
   "display_name": "Python [conda env:base] *",
   "language": "python",
   "name": "conda-base-py"
  },
  "language_info": {
   "codemirror_mode": {
    "name": "ipython",
    "version": 3
   },
   "file_extension": ".py",
   "mimetype": "text/x-python",
   "name": "python",
   "nbconvert_exporter": "python",
   "pygments_lexer": "ipython3",
   "version": "3.12.7"
  }
 },
 "nbformat": 4,
 "nbformat_minor": 5
}
