{
 "cells": [
  {
   "cell_type": "markdown",
   "id": "5684ea31-701a-4057-838f-f8244c71dc20",
   "metadata": {},
   "source": [
    "# 10. 이미지 변형"
   ]
  },
  {
   "cell_type": "markdown",
   "id": "3f64ad96-51cf-454e-9d17-5eb8382aa91e",
   "metadata": {},
   "source": [
    "## 불러온 이미지를 흑백으로 읽음 "
   ]
  },
  {
   "cell_type": "code",
   "execution_count": 39,
   "id": "7a92cdf7-2b09-43f7-ad48-c551f29cae84",
   "metadata": {},
   "outputs": [
    {
     "data": {
      "text/plain": [
       "-1"
      ]
     },
     "execution_count": 39,
     "metadata": {},
     "output_type": "execute_result"
    }
   ],
   "source": [
    "import cv2\n",
    "img = cv2.imread('jpg/img.jpg', cv2.IMREAD_GRAYSCALE)\n",
    "\n",
    "while True:\n",
    "    cv2.imshow('img', img)\n",
    "    if cv2.waitKey(1) & 0xFF == ord('q'):\n",
    "        break\n",
    "        \n",
    "cv2.destroyAllWindows()\n",
    "cv2.waitKey(1)"
   ]
  },
  {
   "cell_type": "markdown",
   "id": "c266124d-9bc8-4de5-b666-49b8066cf314",
   "metadata": {},
   "source": [
    "## 불러온 이미지를 흑백으로 변경"
   ]
  },
  {
   "cell_type": "code",
   "execution_count": 6,
   "id": "f9539d19-5dab-477c-b783-fa803f058e84",
   "metadata": {},
   "outputs": [
    {
     "data": {
      "text/plain": [
       "-1"
      ]
     },
     "execution_count": 6,
     "metadata": {},
     "output_type": "execute_result"
    }
   ],
   "source": [
    "import cv2\n",
    "img = cv2.imread('img.jpg')\n",
    "\n",
    "dst = cv2.cvtColor(img, cv2.COLOR_BGR2GRAY)\n",
    "\n",
    "while True:\n",
    "    cv2.imshow('img', img)\n",
    "    cv2.imshow('gray', dst)\n",
    "    if cv2.waitKey(1) & 0xFF == ord('q'):\n",
    "        break\n",
    "        \n",
    "cv2.destroyAllWindows()\n",
    "cv2.waitKey(1)"
   ]
  },
  {
   "cell_type": "markdown",
   "id": "760b2e15-bb68-49c4-8f66-e9c725f2826a",
   "metadata": {},
   "source": [
    "# 이미지 변형(흐림)"
   ]
  },
  {
   "cell_type": "markdown",
   "id": "c7dc76fa-f2db-4616-89a2-5c733290a610",
   "metadata": {},
   "source": [
    "## 가우시안 블러"
   ]
  },
  {
   "cell_type": "markdown",
   "id": "d3a364e0-dd67-43d1-bf39-f9ece2634532",
   "metadata": {},
   "source": [
    "### 커널 사이즈 변화에 따른 흐림"
   ]
  },
  {
   "cell_type": "code",
   "execution_count": 27,
   "id": "adac9e36-cd22-44b9-aafa-a40132d5481b",
   "metadata": {},
   "outputs": [
    {
     "data": {
      "text/plain": [
       "-1"
      ]
     },
     "execution_count": 27,
     "metadata": {},
     "output_type": "execute_result"
    }
   ],
   "source": [
    "import cv2 \n",
    "img = cv2.imread('img.jpg')\n",
    "\n",
    "# (3, 3), (5, 5), (7, 7)\n",
    "kernel_3 = cv2.GaussianBlur(img, (3, 3), 0)\n",
    "kernel_5 = cv2.GaussianBlur(img, (5, 5), 0)\n",
    "kernel_7 = cv2.GaussianBlur(img, (7, 7), 0)\n",
    "\n",
    "while True:\n",
    "    cv2.imshow('img', img)\n",
    "    cv2.imshow('kernel_3', kernel_3)\n",
    "    cv2.imshow('kernel_5', kernel_5)\n",
    "    cv2.imshow('kernel_7', kernel_7)\n",
    "    if cv2.waitKey(1) & 0xFF == ord('q'):\n",
    "        break\n",
    "    \n",
    "cv2.destroyAllWindows()\n",
    "cv2.waitKey(1)"
   ]
  },
  {
   "cell_type": "markdown",
   "id": "f41cbb37-4f75-4b9e-9426-3b405e4a279e",
   "metadata": {},
   "source": [
    "### 커널 편차 변화에 따른 흐림"
   ]
  },
  {
   "cell_type": "code",
   "execution_count": null,
   "id": "fb69a6d9-c004-4493-beb6-9313a11da815",
   "metadata": {},
   "outputs": [],
   "source": [
    "import cv2 \n",
    "img = cv2.imread('img.jpg')\n",
    "\n",
    "\n",
    "sigma_1 = cv2.GaussianBlur(img, (0, 0), 1) # SigmaX - 가우시안 커널의 x 방향의 표준 편차\n",
    "sigma_2 = cv2.GaussianBlur(img, (0, 0), 2) \n",
    "sigma_3 = cv2.GaussianBlur(img, (0, 0), 3)\n",
    "\n",
    "while True:\n",
    "    cv2.imshow('img', img)\n",
    "    cv2.imshow('sigma_1', sigma_1)\n",
    "    cv2.imshow('sigma_2', sigma_2)\n",
    "    cv2.imshow('sigma_3', sigma_3)\n",
    "    if cv2.waitKey(1) & 0xFF == ord('q'):\n",
    "        break\n",
    "    \n",
    "cv2.destroyAllWindows()\n",
    "cv2.waitKey(1)"
   ]
  },
  {
   "cell_type": "markdown",
   "id": "23e021c5-8c2d-406a-85d2-4108f40c087f",
   "metadata": {},
   "source": [
    "# 이미지 변형(원근)"
   ]
  },
  {
   "cell_type": "code",
   "execution_count": 11,
   "id": "4a147ff6-2c7f-4866-823a-8e253a27c7ce",
   "metadata": {},
   "outputs": [
    {
     "data": {
      "text/plain": [
       "-1"
      ]
     },
     "execution_count": 11,
     "metadata": {},
     "output_type": "execute_result"
    }
   ],
   "source": [
    "import cv2\n",
    "import numpy as np\n",
    "\n",
    "img = cv2.imread('jpg/newspaper.jpg')\n",
    "\n",
    "width, height = 640, 240 # 가로 640, 세로 240 으로 결과물 출력 \n",
    "\n",
    "# screenShot(Command + Shift + 4) or Digital Color Meter를 활용해 픽셀 위치 확인 \n",
    "src = np.array([[511, 352], [1008, 345], [1122, 584], [455, 594]], dtype=np.float32) # Input 4개 지점\n",
    "dst = np.array([[0, 0], [width, 0], [width, height], [0, height]], dtype=np.float32) # Output 4개 지점\n",
    "\n",
    "matrix = cv2.getPerspectiveTransform(src, dst) # Matrix 얻어옴\n",
    "result = cv2.warpPerspective(img, matrix, (width, height)) # matrix 대로 변환을 함\n",
    "\n",
    "while True:\n",
    "    cv2.imshow('img', img)\n",
    "    cv2.imshow('result', result)\n",
    "    \n",
    "    if cv2.waitKey(1) & 0xFF == ord('q'):\n",
    "        break\n",
    "    \n",
    "cv2.destroyAllWindows()\n",
    "cv2.waitKey(1)"
   ]
  },
  {
   "cell_type": "markdown",
   "id": "802d6dde-346e-43fa-8256-2138cd797e73",
   "metadata": {},
   "source": [
    "## 회전된 이미지 올바로 세우기"
   ]
  },
  {
   "cell_type": "code",
   "execution_count": 32,
   "id": "c9470081-a310-453e-87bc-91ccb1384cf2",
   "metadata": {},
   "outputs": [
    {
     "name": "stderr",
     "output_type": "stream",
     "text": [
      "2025-01-11 17:14:09.034 python[39497:2448771] _TIPropertyValueIsValid called with 16 on nil context!\n",
      "2025-01-11 17:14:09.034 python[39497:2448771] imkxpc_getApplicationProperty:reply: called with incorrect property value 16, bailing.\n",
      "2025-01-11 17:14:09.034 python[39497:2448771] Text input context does not respond to _valueForTIProperty:\n",
      "2025-01-11 17:14:27.146 python[39497:2448771] _TIPropertyValueIsValid called with 16 on nil context!\n",
      "2025-01-11 17:14:27.146 python[39497:2448771] imkxpc_getApplicationProperty:reply: called with incorrect property value 16, bailing.\n",
      "2025-01-11 17:14:27.146 python[39497:2448771] Text input context does not respond to _valueForTIProperty:\n"
     ]
    },
    {
     "data": {
      "text/plain": [
       "-1"
      ]
     },
     "execution_count": 32,
     "metadata": {},
     "output_type": "execute_result"
    }
   ],
   "source": [
    "import cv2\n",
    "import numpy as np\n",
    "\n",
    "img = cv2.imread('jpg/poker.jpg')\n",
    "\n",
    "width, height = 520, 710\n",
    "\n",
    "src = np.array([[702, 143], [1133, 417], [730, 1000], [276, 700]], dtype=np.float32) # Input 4개 지점\n",
    "dst = np.array([[0, 0], [width, 0], [width, height], [0, height]], dtype=np.float32) # Output 4개 지점\n",
    "\n",
    "matrix = cv2.getPerspectiveTransform(src, dst) # Matrix 얻어옴\n",
    "result = cv2.warpPerspective(img, matrix, (width, height)) # matrix 대로 변환을 함\n",
    "\n",
    "while True:\n",
    "    cv2.imshow('img', img)\n",
    "    cv2.imshow('result', result)\n",
    "    \n",
    "    if cv2.waitKey(1) & 0xFF == ord('q'):\n",
    "        break\n",
    "    \n",
    "cv2.destroyAllWindows()\n",
    "cv2.waitKey(1)"
   ]
  },
  {
   "cell_type": "markdown",
   "id": "b135f79b-9a58-44fc-97c2-fe331fb039ed",
   "metadata": {},
   "source": [
    "# 이미지 변형(이진화)"
   ]
  },
  {
   "cell_type": "markdown",
   "id": "67dfe021-1430-4b38-906f-be2822608c84",
   "metadata": {},
   "source": [
    "## Threshold"
   ]
  },
  {
   "cell_type": "code",
   "execution_count": 11,
   "id": "9a1708c5-e1a1-4b18-9e61-3560dc3bea3c",
   "metadata": {},
   "outputs": [
    {
     "name": "stderr",
     "output_type": "stream",
     "text": [
      "2025-01-13 12:35:29.734 python[73881:4206703] _TIPropertyValueIsValid called with 16 on nil context!\n",
      "2025-01-13 12:35:29.734 python[73881:4206703] imkxpc_getApplicationProperty:reply: called with incorrect property value 16, bailing.\n",
      "2025-01-13 12:35:29.734 python[73881:4206703] Text input context does not respond to _valueForTIProperty:\n",
      "2025-01-13 12:35:36.117 python[73881:4206703] _TIPropertyValueIsValid called with 16 on nil context!\n",
      "2025-01-13 12:35:36.117 python[73881:4206703] imkxpc_getApplicationProperty:reply: called with incorrect property value 16, bailing.\n",
      "2025-01-13 12:35:36.117 python[73881:4206703] Text input context does not respond to _valueForTIProperty:\n"
     ]
    },
    {
     "data": {
      "text/plain": [
       "-1"
      ]
     },
     "execution_count": 11,
     "metadata": {},
     "output_type": "execute_result"
    }
   ],
   "source": [
    "import cv2\n",
    "img = cv2.imread('jpg/book.jpg', cv2.IMREAD_GRAYSCALE)\n",
    "\n",
    "ret, binary = cv2.threshold(img, 127, 255, cv2.THRESH_BINARY)\n",
    "\n",
    "cv2.imshow('img', img)\n",
    "cv2.imshow('binary', binary)\n",
    "cv2.waitKey(0)\n",
    "cv2.destroyAllWindows()\n",
    "cv2.waitKey(1)"
   ]
  },
  {
   "cell_type": "markdown",
   "id": "f55f6473-87c5-4267-95f0-4e18e9a54529",
   "metadata": {},
   "source": [
    "## Trackbar(값 변화에 따른 변형 확인)"
   ]
  },
  {
   "cell_type": "code",
   "execution_count": 24,
   "id": "64d9c289-7a0b-40ab-acbc-a6f7c40aabc2",
   "metadata": {},
   "outputs": [
    {
     "name": "stdout",
     "output_type": "stream",
     "text": [
      "127\n"
     ]
    },
    {
     "name": "stderr",
     "output_type": "stream",
     "text": [
      "2025-01-12 16:51:19.197 python[57675:3282607] _TIPropertyValueIsValid called with 16 on nil context!\n",
      "2025-01-12 16:51:19.197 python[57675:3282607] imkxpc_getApplicationProperty:reply: called with incorrect property value 16, bailing.\n",
      "2025-01-12 16:51:19.197 python[57675:3282607] Text input context does not respond to _valueForTIProperty:\n"
     ]
    },
    {
     "data": {
      "text/plain": [
       "-1"
      ]
     },
     "execution_count": 24,
     "metadata": {},
     "output_type": "execute_result"
    }
   ],
   "source": [
    "import cv2\n",
    "\n",
    "def empty(pos):\n",
    "    print(pos)\n",
    "    pass \n",
    "\n",
    "img = cv2.imread('jpg/book.jpg', cv2.IMREAD_GRAYSCALE)\n",
    "\n",
    "name = 'Trackbar'\n",
    "cv2.namedWindow(name)\n",
    "\n",
    "cv2.createTrackbar('threshold', name, 127, 255, empty) # bar 이름, 창의 이름, 초기값, 최대값, 이벤트 처리\n",
    "\n",
    "while True:\n",
    "    thresh = cv2.getTrackbarPos('threshold', name) # bar 이름, 창 이름\n",
    "    ret, binary = cv2.threshold(img, thresh, 255, cv2.THRESH_BINARY)\n",
    "    \n",
    "    if not ret:\n",
    "        break\n",
    "        \n",
    "    cv2.imshow(name, binary)\n",
    "    if cv2.waitKey(1) == ord('q'):\n",
    "        break\n",
    "\n",
    "cv2.destroyAllWindows()\n",
    "cv2.waitKey(1)"
   ]
  },
  {
   "cell_type": "markdown",
   "id": "f0fb69d1-e27f-4b53-9352-b2c6d92979a3",
   "metadata": {},
   "source": [
    "## Trackbar(값 변화에 따른 동적 변형 확인)"
   ]
  },
  {
   "cell_type": "code",
   "execution_count": 11,
   "id": "66d694ba-5e42-4ec6-ad86-c077350f1d9d",
   "metadata": {},
   "outputs": [
    {
     "data": {
      "text/plain": [
       "-1"
      ]
     },
     "execution_count": 11,
     "metadata": {},
     "output_type": "execute_result"
    }
   ],
   "source": [
    "import cv2\n",
    "\n",
    "def update_threshold(pos):\n",
    "    \"\"\"트랙바 값 변경 시 이미지를 동적으로 업데이트\"\"\"\n",
    "    global img, window_name\n",
    "\n",
    "    # 트랙바 값 가져오기\n",
    "    thresh = cv2.getTrackbarPos('threshold', window_name)\n",
    "\n",
    "    # 이진화 처리\n",
    "    _, binary = cv2.threshold(img, thresh, 255, cv2.THRESH_BINARY)\n",
    "\n",
    "    # 결과 이미지 표시\n",
    "    cv2.imshow(window_name, binary)\n",
    "\n",
    "# 이미지 불러오기\n",
    "img = cv2.imread('png/threshold.png', cv2.IMREAD_GRAYSCALE)\n",
    "\n",
    "# 창 이름 설정\n",
    "window_name = 'Trackbar'\n",
    "cv2.namedWindow(window_name)\n",
    "\n",
    "# 트랙바 생성\n",
    "cv2.createTrackbar('threshold', window_name, 127, 255, update_threshold)\n",
    "\n",
    "# 초기 이미지 표시\n",
    "update_threshold(127)\n",
    "\n",
    "# 키보드 이벤트 처리\n",
    "while True:\n",
    "    if cv2.waitKey(1) == ord('q'):  # 'q' 키를 누르면 종료\n",
    "        break\n",
    "\n",
    "cv2.destroyAllWindows()\n",
    "cv2.waitKey(1)"
   ]
  },
  {
   "cell_type": "code",
   "execution_count": 8,
   "id": "211ac6de-44bd-4aa7-a984-60d39bc31eec",
   "metadata": {},
   "outputs": [
    {
     "data": {
      "text/plain": [
       "-1"
      ]
     },
     "execution_count": 8,
     "metadata": {},
     "output_type": "execute_result"
    }
   ],
   "source": [
    "import cv2\n",
    "img = cv2.imread('png/threshold.png', cv2.IMREAD_GRAYSCALE)\n",
    "\n",
    "ret, binary1 = cv2.threshold(img, 0, 255, cv2.THRESH_BINARY) \n",
    "ret, binary2 = cv2.threshold(img, 127, 255, cv2.THRESH_BINARY)\n",
    "ret, binary3 = cv2.threshold(img, 195, 255, cv2.THRESH_BINARY)\n",
    "\n",
    "\n",
    "cv2.imshow('img', img)\n",
    "cv2.imshow('binary1', binary1)\n",
    "cv2.imshow('binary2', binary2)\n",
    "cv2.imshow('binary3', binary3)\n",
    "cv2.waitKey(0)\n",
    "cv2.destroyAllWindows()\n",
    "cv2.waitKey(1)"
   ]
  },
  {
   "cell_type": "markdown",
   "id": "bc2ae419-c19e-487d-b38b-df3f884c42a7",
   "metadata": {},
   "source": [
    "## Adaptive Threshold\n",
    "이미지를 작은 영역으로 나누어서 임계치 적용"
   ]
  },
  {
   "cell_type": "code",
   "execution_count": 33,
   "id": "d2068d92-b9a2-4666-bff6-37d0a70c0a7c",
   "metadata": {},
   "outputs": [
    {
     "data": {
      "text/plain": [
       "-1"
      ]
     },
     "execution_count": 33,
     "metadata": {},
     "output_type": "execute_result"
    }
   ],
   "source": [
    "import cv2\n",
    "\n",
    "def empty(pos):\n",
    "    # print(pos)\n",
    "    pass \n",
    "\n",
    "# Load the image in grayscale\n",
    "img = cv2.imread('jpg/book.jpg', cv2.IMREAD_GRAYSCALE)\n",
    "\n",
    "# Create a window for the trackbar\n",
    "name = 'Trackbar'\n",
    "cv2.namedWindow(name)\n",
    "\n",
    "# Create trackbars for block size and C\n",
    "cv2.createTrackbar('block_size', name, 25, 100, empty) # 홀수만 가능, 1보다 큰값 \n",
    "cv2.createTrackbar('c', name, 3, 10, empty) # 일반적으로 양수의 값을 사용\n",
    "\n",
    "while True:\n",
    "    # Get the current trackbar positions\n",
    "    block_size = cv2.getTrackbarPos('block_size', name) # ar 이름, 창의 이름\n",
    "    c = cv2.getTrackbarPos('c', name)\n",
    "\n",
    "    # Ensure block size is odd and greater than 1\n",
    "    if block_size <= 1:\n",
    "        block_size = 3\n",
    "    \n",
    "    if block_size % 2 == 0:\n",
    "        block_size += 1\n",
    "    # Apply adaptive thresholding with the updated parameters \n",
    "    binary = cv2.adaptiveThreshold(img, 255, cv2.ADAPTIVE_THRESH_MEAN_C, cv2.THRESH_BINARY, block_size, c)\n",
    "    \n",
    "    # Show the thresholded image    \n",
    "    cv2.imshow(name, binary)\n",
    "\n",
    "    # Break the loop if 'q' is pressed\n",
    "    if cv2.waitKey(1) == ord('q'):\n",
    "        break\n",
    "\n",
    "# Clean up\n",
    "cv2.destroyAllWindows()\n",
    "cv2.waitKey(1)"
   ]
  },
  {
   "cell_type": "code",
   "execution_count": 2,
   "id": "dc56a925-95a4-4b50-b6a0-e92204b469e2",
   "metadata": {},
   "outputs": [
    {
     "name": "stderr",
     "output_type": "stream",
     "text": [
      "2025-01-15 08:18:09.189 python[53976:6282182] +[IMKClient subclass]: chose IMKClient_Modern\n",
      "2025-01-15 08:18:09.189 python[53976:6282182] +[IMKInputSession subclass]: chose IMKInputSession_Modern\n"
     ]
    },
    {
     "data": {
      "text/plain": [
       "-1"
      ]
     },
     "execution_count": 2,
     "metadata": {},
     "output_type": "execute_result"
    }
   ],
   "source": [
    "import cv2\n",
    "\n",
    "def update_threshold(pos):\n",
    "    \"\"\"Update the adaptive threshold dynamically based on trackbar values.\"\"\"\n",
    "    global img, window_name\n",
    "\n",
    "    # Get trackbar positions\n",
    "    block_size = cv2.getTrackbarPos('block_size', window_name)\n",
    "    c = cv2.getTrackbarPos('c', window_name)\n",
    "\n",
    "    # Ensure block size is odd and greater than 1\n",
    "    if block_size <= 1:\n",
    "        block_size = 3\n",
    "    if block_size % 2 == 0:\n",
    "        block_size += 1\n",
    "\n",
    "    # Apply adaptive thresholding\n",
    "    binary = cv2.adaptiveThreshold(\n",
    "        img, 255, cv2.ADAPTIVE_THRESH_MEAN_C, cv2.THRESH_BINARY, block_size, c\n",
    "    )\n",
    "\n",
    "    # Show the updated result\n",
    "    cv2.imshow(window_name, binary)\n",
    "\n",
    "# Load the image in grayscale\n",
    "img = cv2.imread('jpg/book.jpg', cv2.IMREAD_GRAYSCALE)\n",
    "\n",
    "# Check if the image is loaded correctly\n",
    "if img is None:\n",
    "    print(\"Error: Unable to load image. Check the file path.\")\n",
    "    exit()\n",
    "\n",
    "# Create a window for the trackbar\n",
    "window_name = 'Adaptive Threshold'\n",
    "cv2.namedWindow(window_name)\n",
    "\n",
    "# Resize the window to make the trackbars the same length\n",
    "cv2.resizeWindow(window_name, 500, 200)  # Width and height of the window\n",
    "\n",
    "# Create trackbars for block size and C\n",
    "cv2.createTrackbar('block_size', window_name, 25, 100, update_threshold)  # Block size: odd, >1\n",
    "cv2.createTrackbar('c', window_name, 3, 10, update_threshold)  # C value: usually positive\n",
    "\n",
    "# Initialize with default values\n",
    "update_threshold(0)\n",
    "\n",
    "# Wait for user to press 'q' to exit\n",
    "while True:\n",
    "    if cv2.waitKey(1) == ord('q'):\n",
    "        break\n",
    "\n",
    "# Clean up\n",
    "cv2.destroyAllWindows()\n",
    "cv2.waitKey(1)"
   ]
  },
  {
   "cell_type": "markdown",
   "id": "9e1d6212-f1ff-4817-81c4-c46e2c044275",
   "metadata": {},
   "source": [
    "## 오츠 알고리즘"
   ]
  },
  {
   "cell_type": "markdown",
   "id": "4ff47bdd-17db-4d80-8c0f-ca66b28d1995",
   "metadata": {},
   "source": [
    "Binodal Image에 사용하기 적합(최적의 임계치를 자동으로 발견)"
   ]
  },
  {
   "cell_type": "code",
   "execution_count": 5,
   "id": "61529eb7-9f4d-4736-8859-caacec4c0e34",
   "metadata": {},
   "outputs": [
    {
     "name": "stdout",
     "output_type": "stream",
     "text": [
      "otsu threshold  125.0\n"
     ]
    },
    {
     "data": {
      "text/plain": [
       "-1"
      ]
     },
     "execution_count": 5,
     "metadata": {},
     "output_type": "execute_result"
    }
   ],
   "source": [
    "import cv2\n",
    "img = cv2.imread('jpg/book.jpg', cv2.IMREAD_GRAYSCALE)\n",
    "\n",
    "ret, binary = cv2.threshold(img, 127, 255, cv2.THRESH_BINARY)\n",
    "ret, otsu = cv2.threshold(img, -1, 255, cv2.THRESH_BINARY | cv2.THRESH_OTSU)\n",
    "print('otsu threshold ', ret) \n",
    "\n",
    "cv2.imshow('img', img)\n",
    "cv2.imshow('binary', binary)\n",
    "cv2.imshow('otsu', binary)\n",
    "cv2.waitKey(0)\n",
    "cv2.destroyAllWindows()\n",
    "cv2.waitKey(1)"
   ]
  }
 ],
 "metadata": {
  "kernelspec": {
   "display_name": "Python [conda env:base] *",
   "language": "python",
   "name": "conda-base-py"
  },
  "language_info": {
   "codemirror_mode": {
    "name": "ipython",
    "version": 3
   },
   "file_extension": ".py",
   "mimetype": "text/x-python",
   "name": "python",
   "nbconvert_exporter": "python",
   "pygments_lexer": "ipython3",
   "version": "3.12.7"
  }
 },
 "nbformat": 4,
 "nbformat_minor": 5
}
