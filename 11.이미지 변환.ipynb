{
 "cells": [
  {
   "cell_type": "markdown",
   "id": "4f91afcc-6a9b-4a43-8fcd-f70e92c36021",
   "metadata": {},
   "source": [
    "# 이미지 변환"
   ]
  },
  {
   "cell_type": "markdown",
   "id": "9a9d5308-5a21-4835-b21e-162e01437276",
   "metadata": {},
   "source": [
    "## 팽창: 이미지를 확장하여 작은 구멍을 채움\n",
    "흰색 영역의 외곽 픽셀 주변에 흰색을 추가"
   ]
  },
  {
   "cell_type": "code",
   "execution_count": 10,
   "id": "f69ce3d2-aad8-46fe-b398-c6b3ab4d6981",
   "metadata": {},
   "outputs": [
    {
     "data": {
      "text/plain": [
       "-1"
      ]
     },
     "execution_count": 10,
     "metadata": {},
     "output_type": "execute_result"
    }
   ],
   "source": [
    "import cv2\n",
    "import numpy as np\n",
    "\n",
    "kernel = np.ones((3, 3), dtype=np.uint8)\n",
    "# kernel\n",
    "\n",
    "img = cv2.imread('png/dilate.png', cv2.IMREAD_GRAYSCALE)\n",
    "dilate1 = cv2.dilate(img, kernel, iterations = 1) # 반복 횟수 \n",
    "dilate2 = cv2.dilate(img, kernel, iterations = 2) # 반복 횟수 \n",
    "dilate3 = cv2.dilate(img, kernel, iterations = 3) # 반복 횟수 \n",
    "\n",
    "cv2.imshow('gray', img)\n",
    "cv2.imshow('dilate1', dilate1)\n",
    "cv2.imshow('dilate2', dilate2)\n",
    "cv2.imshow('dilate3', dilate3)\n",
    "cv2.waitKey(0)\n",
    "cv2.destroyAllWindows()\n",
    "cv2.waitKey(1)"
   ]
  },
  {
   "cell_type": "markdown",
   "id": "98618ce4-ba58-473b-9556-b89201689d30",
   "metadata": {},
   "source": [
    "## 침식: 이미지를 깎아서 노이즈 제거 \n",
    "흰색 영역의 외곽 픽셀을 검은색으로 변경"
   ]
  },
  {
   "cell_type": "code",
   "execution_count": 17,
   "id": "7e3cfa26-a7ef-4c6b-98db-733953156ed4",
   "metadata": {},
   "outputs": [
    {
     "data": {
      "text/plain": [
       "-1"
      ]
     },
     "execution_count": 17,
     "metadata": {},
     "output_type": "execute_result"
    }
   ],
   "source": [
    "import cv2\n",
    "import numpy as np\n",
    "\n",
    "kernel = np.ones((3, 3), dtype=np.uint8)\n",
    "# kernel\n",
    "\n",
    "img = cv2.imread('png/erode.png', cv2.IMREAD_GRAYSCALE)\n",
    "erode1 = cv2.erode(img, kernel, iterations = 1)\n",
    "erode2 = cv2.erode(img, kernel, iterations = 2)\n",
    "erode3 = cv2.erode(img, kernel, iterations = 3)\n",
    "\n",
    "cv2.imshow('gray', img)\n",
    "cv2.imshow('erode1', erode1)\n",
    "cv2.imshow('erode2', erode2)\n",
    "cv2.imshow('erode3', erode3)\n",
    "\n",
    "cv2.waitKey(0)\n",
    "cv2.destroyAllWindows()\n",
    "cv2.waitKey(1)"
   ]
  },
  {
   "cell_type": "markdown",
   "id": "7aa06e93-072f-412d-b3a9-a1d2f84c50fc",
   "metadata": {},
   "source": [
    "## 열림(Opening): 침식 후 팽창. 깎아서 노이즈 제거 후 채움\n",
    "> dilate(erode(image))\n"
   ]
  },
  {
   "cell_type": "code",
   "execution_count": 35,
   "id": "88e27bea-36af-4479-8bf5-5e37f5395f72",
   "metadata": {},
   "outputs": [
    {
     "data": {
      "text/plain": [
       "-1"
      ]
     },
     "execution_count": 35,
     "metadata": {},
     "output_type": "execute_result"
    }
   ],
   "source": [
    "import cv2\n",
    "import numpy as np\n",
    "\n",
    "kernel = np.ones((3, 3), dtype=np.uint8)\n",
    "img = cv2.imread('png/erode.png', cv2.IMREAD_GRAYSCALE)\n",
    "\n",
    "erode = cv2.erode(img, kernel, iterations = 3)\n",
    "dilate = cv2.dilate(erode, kernel, iterations = 3)\n",
    "\n",
    "cv2.imshow('img', img)\n",
    "cv2.imshow('erode', erode)\n",
    "cv2.imshow('dilate', dilate)\n",
    "cv2.waitKey(0)\n",
    "cv2.destroyAllWindows()\n",
    "cv2.waitKey(1)"
   ]
  },
  {
   "cell_type": "markdown",
   "id": "d2956f2e-8c95-4e0e-aa4c-49bdf2a95916",
   "metadata": {},
   "source": [
    "## 닫힘(Closing): 팽창 후 침식. 구멍을 매운 후 다시 깎음\n",
    "> erode(dilate(image))"
   ]
  },
  {
   "cell_type": "code",
   "execution_count": 38,
   "id": "345ba1ca-71b7-4138-b55c-be8a088ca70d",
   "metadata": {},
   "outputs": [
    {
     "data": {
      "text/plain": [
       "-1"
      ]
     },
     "execution_count": 38,
     "metadata": {},
     "output_type": "execute_result"
    }
   ],
   "source": [
    "import cv2\n",
    "import numpy as np\n",
    "\n",
    "kernel = np.ones((3, 3), dtype=np.uint8)\n",
    "img = cv2.imread('png/dilate.png', cv2.IMREAD_GRAYSCALE)\n",
    "\n",
    "dilate = cv2.dilate(img, kernel, iterations = 3)\n",
    "erode = cv2.erode(dilate, kernel, iterations = 3)\n",
    "\n",
    "\n",
    "cv2.imshow('img', img)\n",
    "cv2.imshow('dilate', dilate)\n",
    "cv2.imshow('erode', erode)\n",
    "cv2.waitKey(0)\n",
    "cv2.destroyAllWindows()\n",
    "cv2.waitKey(1)"
   ]
  }
 ],
 "metadata": {
  "kernelspec": {
   "display_name": "Python [conda env:base] *",
   "language": "python",
   "name": "conda-base-py"
  },
  "language_info": {
   "codemirror_mode": {
    "name": "ipython",
    "version": 3
   },
   "file_extension": ".py",
   "mimetype": "text/x-python",
   "name": "python",
   "nbconvert_exporter": "python",
   "pygments_lexer": "ipython3",
   "version": "3.12.7"
  }
 },
 "nbformat": 4,
 "nbformat_minor": 5
}
